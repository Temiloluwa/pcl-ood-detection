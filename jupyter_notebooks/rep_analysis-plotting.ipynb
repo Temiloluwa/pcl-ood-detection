{
 "cells": [
  {
   "cell_type": "code",
   "execution_count": 1,
   "id": "d8fe4af1",
   "metadata": {},
   "outputs": [],
   "source": [
    "import pandas as pd\n",
    "import numpy as np\n",
    "import os\n",
    "import seaborn as sns\n",
    "import torch\n",
    "import pickle\n",
    "import json\n",
    "from torchvision.datasets import CIFAR10, CIFAR100, SVHN, ImageFolder\n",
    "from torch.utils.data import DataLoader\n",
    "from tqdm import tqdm\n",
    "from pathlib import Path\n",
    "from PIL import Image\n",
    "from matplotlib import pyplot as plt\n",
    "from collections import Counter\n",
    "from helpers import *\n",
    "from explore import *\n",
    "from sklearn.metrics import roc_auc_score\n",
    "from itertools import product\n",
    "pd.set_option('display.max_rows', 1000)"
   ]
  },
  {
   "cell_type": "code",
   "execution_count": 2,
   "id": "45d8af3e",
   "metadata": {},
   "outputs": [],
   "source": [
    "class_names = [\"airplane\", \"automobile\",\"bird\", \"cat\", \"deer\", \"dog\", \"frog\", \"horse\", \"ship\", \"truck\"]"
   ]
  },
  {
   "cell_type": "code",
   "execution_count": 29,
   "id": "705b8ef2",
   "metadata": {},
   "outputs": [],
   "source": [
    "def softmax_t(logits, temp=1):\n",
    "    logits = logits/temp\n",
    "    _max = np.expand_dims(np.max(logits, axis=-1), axis=-1)\n",
    "    probs = np.exp(logits - _max)\n",
    "    _sum = np.expand_dims(np.sum(probs, axis=-1), axis=-1)\n",
    "    return probs/_sum\n",
    "\n",
    "def cluster_purity(kmeans_targets, in_targets):\n",
    "    k_classes = np.unique(kmeans_targets).astype(int)\n",
    "    k_class_idx = [np.nonzero(np.equal(cls_, kmeans_targets)) for cls_ in k_classes]\n",
    "    in_classes_in_k_clstr = [in_targets[idx] for idx in k_class_idx]\n",
    "    purity_list = []\n",
    "\n",
    "    for cluster_k in in_classes_in_k_clstr:\n",
    "        unique, counts = np.unique(cluster_k, return_counts=True)\n",
    "        purity_list.append(np.round(np.asarray(counts).max()/len(cluster_k), 5))\n",
    "\n",
    "    return purity_list\n",
    "\n",
    "def save_pickle(root, filename, data):\n",
    "    filename = os.path.join(root, \n",
    "                     f'{filename}.pickle')\n",
    "    \n",
    "    with open(filename, 'wb') as f:\n",
    "        pickle.dump(data, f, protocol=pickle.HIGHEST_PROTOCOL)\n",
    "        print(f\"saved {filename}\")"
   ]
  },
  {
   "cell_type": "markdown",
   "id": "0bf6cdb5",
   "metadata": {},
   "source": [
    "## Load Model"
   ]
  },
  {
   "cell_type": "code",
   "execution_count": 68,
   "id": "99b2e6b0",
   "metadata": {
    "scrolled": true
   },
   "outputs": [],
   "source": [
    "encoder_type = \"key\"\n",
    "output_layer = \"avg_pool\""
   ]
  },
  {
   "cell_type": "markdown",
   "id": "95483f3d",
   "metadata": {},
   "source": [
    "## Load IID"
   ]
  },
  {
   "cell_type": "code",
   "execution_count": 69,
   "id": "ec26db03",
   "metadata": {},
   "outputs": [
    {
     "data": {
      "text/plain": [
       "'CIFAR10_key_avg_pool'"
      ]
     },
     "execution_count": 69,
     "metadata": {},
     "output_type": "execute_result"
    }
   ],
   "source": [
    "# load id\n",
    "iid = \"CIFAR10\"\n",
    "prefix = f\"{iid}_{encoder_type}_{output_layer}\"\n",
    "prefix"
   ]
  },
  {
   "cell_type": "code",
   "execution_count": 71,
   "id": "9c20db3f",
   "metadata": {
    "scrolled": true
   },
   "outputs": [],
   "source": [
    "id_train = load_features(\"../cache\", f\"{prefix}_id_train.npy\")\n",
    "id_test = load_features(\"../cache\", f\"{prefix}_id_test.npy\")\n",
    "#id_train_targ = load_features(\"../cache\", f\"{prefix}_id_train_targ.npy\")\n",
    "#id_test_targ = load_features(\"../cache\", f\"{prefix}_id_test_targ.npy\")\n",
    "id_train_targ = np.array(CIFAR10(\"/data/datasets/CIFAR10\", train=True).targets)\n",
    "id_test_targ = np.array(CIFAR10(\"/data/datasets/CIFAR10\", train=False).targets)"
   ]
  },
  {
   "cell_type": "markdown",
   "id": "622fd1be",
   "metadata": {},
   "source": [
    "## Load OOD"
   ]
  },
  {
   "cell_type": "code",
   "execution_count": 72,
   "id": "84f29e46",
   "metadata": {},
   "outputs": [],
   "source": [
    "# load ood\n",
    "oods = [\"CIFAR100\", \"SVHN\",  \"LSUNResize\"]\n",
    "\n",
    "def get_ood_feats(ood):\n",
    "    prefix = f\"{ood}_{encoder_type}_{output_layer}\"\n",
    "    print(f\"Using {prefix}\")\n",
    "    ood_train = load_features(\"../cache\", f\"{prefix}_ood_train.npy\")\n",
    "    ood_test = load_features(\"../cache\",  f\"{prefix}_ood_test.npy\")\n",
    "    return ood_train, ood_test"
   ]
  },
  {
   "cell_type": "markdown",
   "id": "c0d35dda",
   "metadata": {},
   "source": [
    "## Train Features"
   ]
  },
  {
   "cell_type": "code",
   "execution_count": 73,
   "id": "60c30dda",
   "metadata": {
    "scrolled": false
   },
   "outputs": [],
   "source": [
    "#train_linear_model(id_train, id_train_targ, id_test,  id_test_targ, 3)"
   ]
  },
  {
   "cell_type": "markdown",
   "id": "8a4c1ea5",
   "metadata": {},
   "source": [
    "## Get Prototypes"
   ]
  },
  {
   "cell_type": "code",
   "execution_count": 74,
   "id": "26f05ed2",
   "metadata": {},
   "outputs": [],
   "source": [
    "get_prototypes = True"
   ]
  },
  {
   "cell_type": "code",
   "execution_count": 75,
   "id": "62687d7d",
   "metadata": {
    "scrolled": true
   },
   "outputs": [
    {
     "name": "stdout",
     "output_type": "stream",
     "text": [
      "performing kmeans clustering\n"
     ]
    }
   ],
   "source": [
    "if get_prototypes:\n",
    "    num_cluster = 768\n",
    "    id_im2cluster, id_prototypes, id_density = run_clustering(norm_feats(id_train), num_cluster)"
   ]
  },
  {
   "cell_type": "markdown",
   "id": "d31fdf87",
   "metadata": {},
   "source": [
    "## Perform OOD detection Prototypes"
   ]
  },
  {
   "cell_type": "code",
   "execution_count": 76,
   "id": "49256159",
   "metadata": {
    "scrolled": false
   },
   "outputs": [
    {
     "name": "stdout",
     "output_type": "stream",
     "text": [
      "setting pca and num_cluster to 0 because means are supplied\n",
      "using supplied means\n",
      "Using CIFAR100_key_avg_pool\n",
      "** Using Ground Truths **\n",
      "** No PCA **\n",
      "calculating train distances\n",
      "global conv\n"
     ]
    },
    {
     "name": "stderr",
     "output_type": "stream",
     "text": [
      "100%|██████████| 768/768 [20:47<00:00,  1.62s/it]\n"
     ]
    },
    {
     "name": "stdout",
     "output_type": "stream",
     "text": [
      "calculating test distances\n",
      "global conv\n"
     ]
    },
    {
     "name": "stderr",
     "output_type": "stream",
     "text": [
      "100%|██████████| 768/768 [03:47<00:00,  3.38it/s]\n"
     ]
    },
    {
     "name": "stdout",
     "output_type": "stream",
     "text": [
      "calculating ood distances\n",
      "global conv\n"
     ]
    },
    {
     "name": "stderr",
     "output_type": "stream",
     "text": [
      "100%|██████████| 768/768 [03:47<00:00,  3.38it/s]\n"
     ]
    },
    {
     "name": "stdout",
     "output_type": "stream",
     "text": [
      "train ID accuracy: 94.20%\n",
      "test ID accuracy: 0.11%\n",
      "n auroc: 65.73706849999999, tnr@tpr95: 10.75\n",
      "e auroc: 65.7159715, tnr@tpr95: 11.51\n",
      "sklearn-auroc: 66.415063 %\n",
      "\n",
      "\n",
      "{'clusters': 'prototypes',\n",
      " 'e_auroc': 65.7159715,\n",
      " 'e_tnr': 11.51,\n",
      " 'global_mal_cov': True,\n",
      " 'metric': 'mahalanobis',\n",
      " 'n_auroc': 65.73706849999999,\n",
      " 'n_tnr': 10.75,\n",
      " 'ood': 'CIFAR100',\n",
      " 'pca': 0,\n",
      " 'sklearn_auroc': 66.415063}\n",
      "Using CIFAR100_key_avg_pool\n",
      "** Using Ground Truths **\n",
      "** No PCA **\n",
      "calculating train distances\n",
      "calculating test distances\n",
      "calculating ood distances\n",
      "train ID accuracy: 99.94%\n",
      "test ID accuracy: 0.09%\n",
      "n auroc: 69.5341345, tnr@tpr95: 13.81\n",
      "e auroc: 72.22727599999999, tnr@tpr95: 16.21\n",
      "sklearn-auroc: 72.7243485 %\n",
      "\n",
      "\n",
      "{'clusters': 'prototypes',\n",
      " 'e_auroc': 72.22727599999999,\n",
      " 'e_tnr': 16.21,\n",
      " 'global_mal_cov': True,\n",
      " 'metric': 'cosine',\n",
      " 'n_auroc': 69.5341345,\n",
      " 'n_tnr': 13.81,\n",
      " 'ood': 'CIFAR100',\n",
      " 'pca': 0,\n",
      " 'sklearn_auroc': 72.7243485}\n",
      "Using SVHN_key_avg_pool\n",
      "** Using Ground Truths **\n",
      "** No PCA **\n",
      "calculating train distances\n",
      "global conv\n"
     ]
    },
    {
     "name": "stderr",
     "output_type": "stream",
     "text": [
      "100%|██████████| 768/768 [20:24<00:00,  1.59s/it]\n"
     ]
    },
    {
     "name": "stdout",
     "output_type": "stream",
     "text": [
      "calculating test distances\n",
      "global conv\n"
     ]
    },
    {
     "name": "stderr",
     "output_type": "stream",
     "text": [
      "100%|██████████| 768/768 [03:37<00:00,  3.53it/s]\n"
     ]
    },
    {
     "name": "stdout",
     "output_type": "stream",
     "text": [
      "calculating ood distances\n",
      "global conv\n"
     ]
    },
    {
     "name": "stderr",
     "output_type": "stream",
     "text": [
      "100%|██████████| 768/768 [10:12<00:00,  1.25it/s]\n"
     ]
    },
    {
     "name": "stdout",
     "output_type": "stream",
     "text": [
      "train ID accuracy: 94.20%\n",
      "test ID accuracy: 0.11%\n",
      "n auroc: 94.84469153349723, tnr@tpr95: 94.69999999999999\n",
      "e auroc: 95.14952808082361, tnr@tpr95: 94.78999999999999\n",
      "sklearn-auroc: 99.2335602335587 %\n",
      "\n",
      "\n",
      "{'clusters': 'prototypes',\n",
      " 'e_auroc': 95.14952808082361,\n",
      " 'e_tnr': 94.78999999999999,\n",
      " 'global_mal_cov': True,\n",
      " 'metric': 'mahalanobis',\n",
      " 'n_auroc': 94.84469153349723,\n",
      " 'n_tnr': 94.69999999999999,\n",
      " 'ood': 'SVHN',\n",
      " 'pca': 0,\n",
      " 'sklearn_auroc': 99.2335602335587}\n",
      "Using SVHN_key_avg_pool\n",
      "** Using Ground Truths **\n",
      "** No PCA **\n",
      "calculating train distances\n",
      "calculating test distances\n",
      "calculating ood distances\n",
      "train ID accuracy: 99.94%\n",
      "test ID accuracy: 0.09%\n",
      "n auroc: 94.17582782728947, tnr@tpr95: 79.32000000000001\n",
      "e auroc: 97.99290565457898, tnr@tpr95: 84.44\n",
      "sklearn-auroc: 98.1736326444376 %\n",
      "\n",
      "\n",
      "{'clusters': 'prototypes',\n",
      " 'e_auroc': 97.99290565457898,\n",
      " 'e_tnr': 84.44,\n",
      " 'global_mal_cov': True,\n",
      " 'metric': 'cosine',\n",
      " 'n_auroc': 94.17582782728947,\n",
      " 'n_tnr': 79.32000000000001,\n",
      " 'ood': 'SVHN',\n",
      " 'pca': 0,\n",
      " 'sklearn_auroc': 98.1736326444376}\n",
      "Using LSUNResize_key_avg_pool\n",
      "** Using Ground Truths **\n",
      "** No PCA **\n",
      "calculating train distances\n",
      "global conv\n"
     ]
    },
    {
     "name": "stderr",
     "output_type": "stream",
     "text": [
      "100%|██████████| 768/768 [20:28<00:00,  1.60s/it]\n"
     ]
    },
    {
     "name": "stdout",
     "output_type": "stream",
     "text": [
      "calculating test distances\n",
      "global conv\n"
     ]
    },
    {
     "name": "stderr",
     "output_type": "stream",
     "text": [
      "100%|██████████| 768/768 [03:41<00:00,  3.46it/s]\n"
     ]
    },
    {
     "name": "stdout",
     "output_type": "stream",
     "text": [
      "calculating ood distances\n",
      "global conv\n"
     ]
    },
    {
     "name": "stderr",
     "output_type": "stream",
     "text": [
      "100%|██████████| 768/768 [03:40<00:00,  3.48it/s]\n"
     ]
    },
    {
     "name": "stdout",
     "output_type": "stream",
     "text": [
      "train ID accuracy: 94.20%\n",
      "test ID accuracy: 0.11%\n",
      "n auroc: 79.80052850000001, tnr@tpr95: 36.95\n",
      "e auroc: 79.736658, tnr@tpr95: 32.01\n",
      "sklearn-auroc: 80.02505699999999 %\n",
      "\n",
      "\n",
      "{'clusters': 'prototypes',\n",
      " 'e_auroc': 79.736658,\n",
      " 'e_tnr': 32.01,\n",
      " 'global_mal_cov': True,\n",
      " 'metric': 'mahalanobis',\n",
      " 'n_auroc': 79.80052850000001,\n",
      " 'n_tnr': 36.95,\n",
      " 'ood': 'LSUNResize',\n",
      " 'pca': 0,\n",
      " 'sklearn_auroc': 80.02505699999999}\n",
      "Using LSUNResize_key_avg_pool\n",
      "** Using Ground Truths **\n",
      "** No PCA **\n",
      "calculating train distances\n",
      "calculating test distances\n",
      "calculating ood distances\n",
      "train ID accuracy: 99.94%\n",
      "test ID accuracy: 0.09%\n",
      "n auroc: 75.88427949999999, tnr@tpr95: 25.979999999999997\n",
      "e auroc: 80.5792735, tnr@tpr95: 39.989999999999995\n",
      "sklearn-auroc: 81.41561049999999 %\n",
      "\n",
      "\n",
      "{'clusters': 'prototypes',\n",
      " 'e_auroc': 80.5792735,\n",
      " 'e_tnr': 39.989999999999995,\n",
      " 'global_mal_cov': True,\n",
      " 'metric': 'cosine',\n",
      " 'n_auroc': 75.88427949999999,\n",
      " 'n_tnr': 25.979999999999997,\n",
      " 'ood': 'LSUNResize',\n",
      " 'pca': 0,\n",
      " 'sklearn_auroc': 81.41561049999999}\n"
     ]
    }
   ],
   "source": [
    "ood_results = []\n",
    "gmc = [True]\n",
    "metrics = [\"mahalanobis\", \"cosine\"]\n",
    "pca_com = 0\n",
    "cluster_method = \"kmeans\"\n",
    "\n",
    "ood_evaluator = OodEvaluator(norm_feats(id_train), norm_feats(id_test), id_train_targ, id_test_targ,\n",
    "                num_clusters = 10,\n",
    "                pca_com = None,\n",
    "                cluster_method = \"kmeans\",\n",
    "                means = id_prototypes,\n",
    "                im2cluster = id_im2cluster,\n",
    "                clip = 0,\n",
    "                clip_metric = \"cosine\")\n",
    "    \n",
    "for ood, met in product(oods, metrics):\n",
    "    global_mal_cov = True\n",
    "    ood_train, ood_test = get_ood_feats(ood)\n",
    "    if met == \"mahalanobis\" and pca_com == 0 and cluster_method==\"kmeans\" and global_mal_cov:\n",
    "        ood_evaluator(norm_feats(ood_test), met, global_cov=True, inv_choice=\"default\", recal=True)\n",
    "    else:\n",
    "        ood_evaluator(norm_feats(ood_test), met)\n",
    "        \n",
    "    ood_evaluator.get_scores()\n",
    "\n",
    "    ood_evaluator.get_auroc()\n",
    "    \n",
    "    print(\"\\n\")\n",
    "\n",
    "\n",
    "    aurocs = ood_evaluator.auroc\n",
    "    tnrs = ood_evaluator.tnr_at_tpr95\n",
    "\n",
    "    result = {\n",
    "        \"ood\": ood,   \n",
    "        \"metric\": met,\n",
    "            \"pca\": 0,\n",
    "            \"clusters\": \"prototypes\",\n",
    "            \"n_auroc\": aurocs[0],\n",
    "            \"n_tnr\": tnrs[0],\n",
    "            \"e_auroc\": aurocs[1],\n",
    "            \"e_tnr\":  tnrs[1],\n",
    "            \"sklearn_auroc\": aurocs[2],\n",
    "            \"global_mal_cov\": global_mal_cov\n",
    "            }\n",
    "    pprint(result)\n",
    "    ood_results.append(result)\n"
   ]
  },
  {
   "cell_type": "code",
   "execution_count": 77,
   "id": "1584d163",
   "metadata": {},
   "outputs": [
    {
     "data": {
      "text/html": [
       "<div>\n",
       "<style scoped>\n",
       "    .dataframe tbody tr th:only-of-type {\n",
       "        vertical-align: middle;\n",
       "    }\n",
       "\n",
       "    .dataframe tbody tr th {\n",
       "        vertical-align: top;\n",
       "    }\n",
       "\n",
       "    .dataframe thead th {\n",
       "        text-align: right;\n",
       "    }\n",
       "</style>\n",
       "<table border=\"1\" class=\"dataframe\">\n",
       "  <thead>\n",
       "    <tr style=\"text-align: right;\">\n",
       "      <th></th>\n",
       "      <th>ood</th>\n",
       "      <th>metric</th>\n",
       "      <th>pca</th>\n",
       "      <th>clusters</th>\n",
       "      <th>n_auroc</th>\n",
       "      <th>n_tnr</th>\n",
       "      <th>e_auroc</th>\n",
       "      <th>e_tnr</th>\n",
       "      <th>sklearn_auroc</th>\n",
       "      <th>global_mal_cov</th>\n",
       "    </tr>\n",
       "  </thead>\n",
       "  <tbody>\n",
       "    <tr>\n",
       "      <th>0</th>\n",
       "      <td>CIFAR100</td>\n",
       "      <td>mahalanobis</td>\n",
       "      <td>0</td>\n",
       "      <td>prototypes</td>\n",
       "      <td>65.737068</td>\n",
       "      <td>10.75</td>\n",
       "      <td>65.715971</td>\n",
       "      <td>11.51</td>\n",
       "      <td>66.415063</td>\n",
       "      <td>True</td>\n",
       "    </tr>\n",
       "    <tr>\n",
       "      <th>1</th>\n",
       "      <td>CIFAR100</td>\n",
       "      <td>cosine</td>\n",
       "      <td>0</td>\n",
       "      <td>prototypes</td>\n",
       "      <td>69.534134</td>\n",
       "      <td>13.81</td>\n",
       "      <td>72.227276</td>\n",
       "      <td>16.21</td>\n",
       "      <td>72.724349</td>\n",
       "      <td>True</td>\n",
       "    </tr>\n",
       "    <tr>\n",
       "      <th>2</th>\n",
       "      <td>SVHN</td>\n",
       "      <td>mahalanobis</td>\n",
       "      <td>0</td>\n",
       "      <td>prototypes</td>\n",
       "      <td>94.844692</td>\n",
       "      <td>94.70</td>\n",
       "      <td>95.149528</td>\n",
       "      <td>94.79</td>\n",
       "      <td>99.233560</td>\n",
       "      <td>True</td>\n",
       "    </tr>\n",
       "    <tr>\n",
       "      <th>3</th>\n",
       "      <td>SVHN</td>\n",
       "      <td>cosine</td>\n",
       "      <td>0</td>\n",
       "      <td>prototypes</td>\n",
       "      <td>94.175828</td>\n",
       "      <td>79.32</td>\n",
       "      <td>97.992906</td>\n",
       "      <td>84.44</td>\n",
       "      <td>98.173633</td>\n",
       "      <td>True</td>\n",
       "    </tr>\n",
       "    <tr>\n",
       "      <th>4</th>\n",
       "      <td>LSUNResize</td>\n",
       "      <td>mahalanobis</td>\n",
       "      <td>0</td>\n",
       "      <td>prototypes</td>\n",
       "      <td>79.800529</td>\n",
       "      <td>36.95</td>\n",
       "      <td>79.736658</td>\n",
       "      <td>32.01</td>\n",
       "      <td>80.025057</td>\n",
       "      <td>True</td>\n",
       "    </tr>\n",
       "    <tr>\n",
       "      <th>5</th>\n",
       "      <td>LSUNResize</td>\n",
       "      <td>cosine</td>\n",
       "      <td>0</td>\n",
       "      <td>prototypes</td>\n",
       "      <td>75.884279</td>\n",
       "      <td>25.98</td>\n",
       "      <td>80.579273</td>\n",
       "      <td>39.99</td>\n",
       "      <td>81.415610</td>\n",
       "      <td>True</td>\n",
       "    </tr>\n",
       "  </tbody>\n",
       "</table>\n",
       "</div>"
      ],
      "text/plain": [
       "          ood       metric  pca    clusters    n_auroc  n_tnr    e_auroc  \\\n",
       "0    CIFAR100  mahalanobis    0  prototypes  65.737068  10.75  65.715971   \n",
       "1    CIFAR100       cosine    0  prototypes  69.534134  13.81  72.227276   \n",
       "2        SVHN  mahalanobis    0  prototypes  94.844692  94.70  95.149528   \n",
       "3        SVHN       cosine    0  prototypes  94.175828  79.32  97.992906   \n",
       "4  LSUNResize  mahalanobis    0  prototypes  79.800529  36.95  79.736658   \n",
       "5  LSUNResize       cosine    0  prototypes  75.884279  25.98  80.579273   \n",
       "\n",
       "   e_tnr  sklearn_auroc  global_mal_cov  \n",
       "0  11.51      66.415063            True  \n",
       "1  16.21      72.724349            True  \n",
       "2  94.79      99.233560            True  \n",
       "3  84.44      98.173633            True  \n",
       "4  32.01      80.025057            True  \n",
       "5  39.99      81.415610            True  "
      ]
     },
     "execution_count": 77,
     "metadata": {},
     "output_type": "execute_result"
    }
   ],
   "source": [
    "pd.DataFrame(ood_results)"
   ]
  },
  {
   "cell_type": "code",
   "execution_count": 78,
   "id": "05c01a17",
   "metadata": {},
   "outputs": [
    {
     "data": {
      "text/html": [
       "<div>\n",
       "<style scoped>\n",
       "    .dataframe tbody tr th:only-of-type {\n",
       "        vertical-align: middle;\n",
       "    }\n",
       "\n",
       "    .dataframe tbody tr th {\n",
       "        vertical-align: top;\n",
       "    }\n",
       "\n",
       "    .dataframe thead th {\n",
       "        text-align: right;\n",
       "    }\n",
       "</style>\n",
       "<table border=\"1\" class=\"dataframe\">\n",
       "  <thead>\n",
       "    <tr style=\"text-align: right;\">\n",
       "      <th></th>\n",
       "      <th>ood</th>\n",
       "      <th>metric</th>\n",
       "      <th>pca</th>\n",
       "      <th>clusters</th>\n",
       "      <th>n_auroc</th>\n",
       "      <th>n_tnr</th>\n",
       "      <th>e_auroc</th>\n",
       "      <th>e_tnr</th>\n",
       "      <th>sklearn_auroc</th>\n",
       "      <th>global_mal_cov</th>\n",
       "    </tr>\n",
       "  </thead>\n",
       "  <tbody>\n",
       "    <tr>\n",
       "      <th>0</th>\n",
       "      <td>CIFAR100</td>\n",
       "      <td>mahalanobis</td>\n",
       "      <td>0</td>\n",
       "      <td>prototypes</td>\n",
       "      <td>65.737068</td>\n",
       "      <td>10.75</td>\n",
       "      <td>65.715971</td>\n",
       "      <td>11.51</td>\n",
       "      <td>66.415063</td>\n",
       "      <td>True</td>\n",
       "    </tr>\n",
       "    <tr>\n",
       "      <th>1</th>\n",
       "      <td>CIFAR100</td>\n",
       "      <td>cosine</td>\n",
       "      <td>0</td>\n",
       "      <td>prototypes</td>\n",
       "      <td>69.534134</td>\n",
       "      <td>13.81</td>\n",
       "      <td>72.227276</td>\n",
       "      <td>16.21</td>\n",
       "      <td>72.724349</td>\n",
       "      <td>True</td>\n",
       "    </tr>\n",
       "    <tr>\n",
       "      <th>2</th>\n",
       "      <td>SVHN</td>\n",
       "      <td>mahalanobis</td>\n",
       "      <td>0</td>\n",
       "      <td>prototypes</td>\n",
       "      <td>94.844692</td>\n",
       "      <td>94.70</td>\n",
       "      <td>95.149528</td>\n",
       "      <td>94.79</td>\n",
       "      <td>99.233560</td>\n",
       "      <td>True</td>\n",
       "    </tr>\n",
       "    <tr>\n",
       "      <th>3</th>\n",
       "      <td>SVHN</td>\n",
       "      <td>cosine</td>\n",
       "      <td>0</td>\n",
       "      <td>prototypes</td>\n",
       "      <td>94.175828</td>\n",
       "      <td>79.32</td>\n",
       "      <td>97.992906</td>\n",
       "      <td>84.44</td>\n",
       "      <td>98.173633</td>\n",
       "      <td>True</td>\n",
       "    </tr>\n",
       "    <tr>\n",
       "      <th>4</th>\n",
       "      <td>LSUNResize</td>\n",
       "      <td>mahalanobis</td>\n",
       "      <td>0</td>\n",
       "      <td>prototypes</td>\n",
       "      <td>79.800529</td>\n",
       "      <td>36.95</td>\n",
       "      <td>79.736658</td>\n",
       "      <td>32.01</td>\n",
       "      <td>80.025057</td>\n",
       "      <td>True</td>\n",
       "    </tr>\n",
       "    <tr>\n",
       "      <th>5</th>\n",
       "      <td>LSUNResize</td>\n",
       "      <td>cosine</td>\n",
       "      <td>0</td>\n",
       "      <td>prototypes</td>\n",
       "      <td>75.884279</td>\n",
       "      <td>25.98</td>\n",
       "      <td>80.579273</td>\n",
       "      <td>39.99</td>\n",
       "      <td>81.415610</td>\n",
       "      <td>True</td>\n",
       "    </tr>\n",
       "  </tbody>\n",
       "</table>\n",
       "</div>"
      ],
      "text/plain": [
       "          ood       metric  pca    clusters    n_auroc  n_tnr    e_auroc  \\\n",
       "0    CIFAR100  mahalanobis    0  prototypes  65.737068  10.75  65.715971   \n",
       "1    CIFAR100       cosine    0  prototypes  69.534134  13.81  72.227276   \n",
       "2        SVHN  mahalanobis    0  prototypes  94.844692  94.70  95.149528   \n",
       "3        SVHN       cosine    0  prototypes  94.175828  79.32  97.992906   \n",
       "4  LSUNResize  mahalanobis    0  prototypes  79.800529  36.95  79.736658   \n",
       "5  LSUNResize       cosine    0  prototypes  75.884279  25.98  80.579273   \n",
       "\n",
       "   e_tnr  sklearn_auroc  global_mal_cov  \n",
       "0  11.51      66.415063            True  \n",
       "1  16.21      72.724349            True  \n",
       "2  94.79      99.233560            True  \n",
       "3  84.44      98.173633            True  \n",
       "4  32.01      80.025057            True  \n",
       "5  39.99      81.415610            True  "
      ]
     },
     "execution_count": 78,
     "metadata": {},
     "output_type": "execute_result"
    }
   ],
   "source": [
    "pd.DataFrame(ood_results)"
   ]
  },
  {
   "cell_type": "code",
   "execution_count": null,
   "id": "cfaee266",
   "metadata": {},
   "outputs": [],
   "source": []
  },
  {
   "cell_type": "code",
   "execution_count": null,
   "id": "18b0ea4d",
   "metadata": {},
   "outputs": [],
   "source": []
  },
  {
   "cell_type": "code",
   "execution_count": null,
   "id": "66e9ce26",
   "metadata": {},
   "outputs": [],
   "source": []
  },
  {
   "cell_type": "code",
   "execution_count": 79,
   "id": "4ab27b5a",
   "metadata": {},
   "outputs": [
    {
     "name": "stdout",
     "output_type": "stream",
     "text": [
      "saved ../cache/CIFAR10_prototype_ood_result.pickle\n"
     ]
    }
   ],
   "source": [
    "save_pickle(\"../cache\", \"CIFAR10_prototype_ood_result\", ood_results)"
   ]
  },
  {
   "cell_type": "code",
   "execution_count": 38,
   "id": "19fe39c7",
   "metadata": {},
   "outputs": [
    {
     "data": {
      "text/html": [
       "<div>\n",
       "<style scoped>\n",
       "    .dataframe tbody tr th:only-of-type {\n",
       "        vertical-align: middle;\n",
       "    }\n",
       "\n",
       "    .dataframe tbody tr th {\n",
       "        vertical-align: top;\n",
       "    }\n",
       "\n",
       "    .dataframe thead th {\n",
       "        text-align: right;\n",
       "    }\n",
       "</style>\n",
       "<table border=\"1\" class=\"dataframe\">\n",
       "  <thead>\n",
       "    <tr style=\"text-align: right;\">\n",
       "      <th></th>\n",
       "      <th>ood</th>\n",
       "      <th>metric</th>\n",
       "      <th>pca</th>\n",
       "      <th>clusters</th>\n",
       "      <th>n_auroc</th>\n",
       "      <th>n_tnr</th>\n",
       "      <th>e_auroc</th>\n",
       "      <th>e_tnr</th>\n",
       "      <th>sklearn_auroc</th>\n",
       "      <th>global_mal_cov</th>\n",
       "    </tr>\n",
       "  </thead>\n",
       "  <tbody>\n",
       "    <tr>\n",
       "      <th>0</th>\n",
       "      <td>CIFAR100</td>\n",
       "      <td>mahalanobis</td>\n",
       "      <td>10</td>\n",
       "      <td>prototypes</td>\n",
       "      <td>43.375665</td>\n",
       "      <td>0.00</td>\n",
       "      <td>0.333363</td>\n",
       "      <td>0.00</td>\n",
       "      <td>47.995792</td>\n",
       "      <td>True</td>\n",
       "    </tr>\n",
       "    <tr>\n",
       "      <th>1</th>\n",
       "      <td>CIFAR100</td>\n",
       "      <td>mahalanobis</td>\n",
       "      <td>10</td>\n",
       "      <td>prototypes</td>\n",
       "      <td>43.375665</td>\n",
       "      <td>0.00</td>\n",
       "      <td>0.333363</td>\n",
       "      <td>0.00</td>\n",
       "      <td>47.995792</td>\n",
       "      <td>False</td>\n",
       "    </tr>\n",
       "    <tr>\n",
       "      <th>2</th>\n",
       "      <td>CIFAR100</td>\n",
       "      <td>cosine</td>\n",
       "      <td>10</td>\n",
       "      <td>prototypes</td>\n",
       "      <td>70.912516</td>\n",
       "      <td>16.37</td>\n",
       "      <td>74.684123</td>\n",
       "      <td>11.14</td>\n",
       "      <td>75.230045</td>\n",
       "      <td>True</td>\n",
       "    </tr>\n",
       "    <tr>\n",
       "      <th>3</th>\n",
       "      <td>CIFAR100</td>\n",
       "      <td>cosine</td>\n",
       "      <td>10</td>\n",
       "      <td>prototypes</td>\n",
       "      <td>70.912516</td>\n",
       "      <td>16.37</td>\n",
       "      <td>74.684123</td>\n",
       "      <td>11.14</td>\n",
       "      <td>75.230045</td>\n",
       "      <td>False</td>\n",
       "    </tr>\n",
       "    <tr>\n",
       "      <th>4</th>\n",
       "      <td>SVHN</td>\n",
       "      <td>mahalanobis</td>\n",
       "      <td>10</td>\n",
       "      <td>prototypes</td>\n",
       "      <td>36.643526</td>\n",
       "      <td>0.00</td>\n",
       "      <td>0.270425</td>\n",
       "      <td>0.00</td>\n",
       "      <td>31.160693</td>\n",
       "      <td>True</td>\n",
       "    </tr>\n",
       "    <tr>\n",
       "      <th>5</th>\n",
       "      <td>SVHN</td>\n",
       "      <td>mahalanobis</td>\n",
       "      <td>10</td>\n",
       "      <td>prototypes</td>\n",
       "      <td>36.643526</td>\n",
       "      <td>0.00</td>\n",
       "      <td>0.270425</td>\n",
       "      <td>0.00</td>\n",
       "      <td>31.160693</td>\n",
       "      <td>False</td>\n",
       "    </tr>\n",
       "    <tr>\n",
       "      <th>6</th>\n",
       "      <td>SVHN</td>\n",
       "      <td>cosine</td>\n",
       "      <td>10</td>\n",
       "      <td>prototypes</td>\n",
       "      <td>93.819123</td>\n",
       "      <td>81.95</td>\n",
       "      <td>98.004371</td>\n",
       "      <td>87.27</td>\n",
       "      <td>98.157377</td>\n",
       "      <td>True</td>\n",
       "    </tr>\n",
       "    <tr>\n",
       "      <th>7</th>\n",
       "      <td>SVHN</td>\n",
       "      <td>cosine</td>\n",
       "      <td>10</td>\n",
       "      <td>prototypes</td>\n",
       "      <td>93.819123</td>\n",
       "      <td>81.95</td>\n",
       "      <td>98.004371</td>\n",
       "      <td>87.27</td>\n",
       "      <td>98.157377</td>\n",
       "      <td>False</td>\n",
       "    </tr>\n",
       "    <tr>\n",
       "      <th>8</th>\n",
       "      <td>LSUNResize</td>\n",
       "      <td>mahalanobis</td>\n",
       "      <td>10</td>\n",
       "      <td>prototypes</td>\n",
       "      <td>50.692852</td>\n",
       "      <td>11.17</td>\n",
       "      <td>0.223830</td>\n",
       "      <td>0.00</td>\n",
       "      <td>59.084254</td>\n",
       "      <td>True</td>\n",
       "    </tr>\n",
       "    <tr>\n",
       "      <th>9</th>\n",
       "      <td>LSUNResize</td>\n",
       "      <td>mahalanobis</td>\n",
       "      <td>10</td>\n",
       "      <td>prototypes</td>\n",
       "      <td>50.692852</td>\n",
       "      <td>11.17</td>\n",
       "      <td>0.223830</td>\n",
       "      <td>0.00</td>\n",
       "      <td>59.084254</td>\n",
       "      <td>False</td>\n",
       "    </tr>\n",
       "    <tr>\n",
       "      <th>10</th>\n",
       "      <td>LSUNResize</td>\n",
       "      <td>cosine</td>\n",
       "      <td>10</td>\n",
       "      <td>prototypes</td>\n",
       "      <td>80.411788</td>\n",
       "      <td>37.46</td>\n",
       "      <td>88.242021</td>\n",
       "      <td>54.22</td>\n",
       "      <td>88.826947</td>\n",
       "      <td>True</td>\n",
       "    </tr>\n",
       "    <tr>\n",
       "      <th>11</th>\n",
       "      <td>LSUNResize</td>\n",
       "      <td>cosine</td>\n",
       "      <td>10</td>\n",
       "      <td>prototypes</td>\n",
       "      <td>80.411788</td>\n",
       "      <td>37.46</td>\n",
       "      <td>88.242021</td>\n",
       "      <td>54.22</td>\n",
       "      <td>88.826947</td>\n",
       "      <td>False</td>\n",
       "    </tr>\n",
       "  </tbody>\n",
       "</table>\n",
       "</div>"
      ],
      "text/plain": [
       "           ood       metric  pca    clusters    n_auroc  n_tnr    e_auroc  \\\n",
       "0     CIFAR100  mahalanobis   10  prototypes  43.375665   0.00   0.333363   \n",
       "1     CIFAR100  mahalanobis   10  prototypes  43.375665   0.00   0.333363   \n",
       "2     CIFAR100       cosine   10  prototypes  70.912516  16.37  74.684123   \n",
       "3     CIFAR100       cosine   10  prototypes  70.912516  16.37  74.684123   \n",
       "4         SVHN  mahalanobis   10  prototypes  36.643526   0.00   0.270425   \n",
       "5         SVHN  mahalanobis   10  prototypes  36.643526   0.00   0.270425   \n",
       "6         SVHN       cosine   10  prototypes  93.819123  81.95  98.004371   \n",
       "7         SVHN       cosine   10  prototypes  93.819123  81.95  98.004371   \n",
       "8   LSUNResize  mahalanobis   10  prototypes  50.692852  11.17   0.223830   \n",
       "9   LSUNResize  mahalanobis   10  prototypes  50.692852  11.17   0.223830   \n",
       "10  LSUNResize       cosine   10  prototypes  80.411788  37.46  88.242021   \n",
       "11  LSUNResize       cosine   10  prototypes  80.411788  37.46  88.242021   \n",
       "\n",
       "    e_tnr  sklearn_auroc  global_mal_cov  \n",
       "0    0.00      47.995792            True  \n",
       "1    0.00      47.995792           False  \n",
       "2   11.14      75.230045            True  \n",
       "3   11.14      75.230045           False  \n",
       "4    0.00      31.160693            True  \n",
       "5    0.00      31.160693           False  \n",
       "6   87.27      98.157377            True  \n",
       "7   87.27      98.157377           False  \n",
       "8    0.00      59.084254            True  \n",
       "9    0.00      59.084254           False  \n",
       "10  54.22      88.826947            True  \n",
       "11  54.22      88.826947           False  "
      ]
     },
     "execution_count": 38,
     "metadata": {},
     "output_type": "execute_result"
    }
   ],
   "source": [
    "pd.DataFrame(pd.read_pickle(\"../cache/CIFAR10_prototype_ood_result.pickle\"))"
   ]
  },
  {
   "cell_type": "code",
   "execution_count": 31,
   "id": "78883563",
   "metadata": {},
   "outputs": [
    {
     "data": {
      "text/html": [
       "<div>\n",
       "<style scoped>\n",
       "    .dataframe tbody tr th:only-of-type {\n",
       "        vertical-align: middle;\n",
       "    }\n",
       "\n",
       "    .dataframe tbody tr th {\n",
       "        vertical-align: top;\n",
       "    }\n",
       "\n",
       "    .dataframe thead th {\n",
       "        text-align: right;\n",
       "    }\n",
       "</style>\n",
       "<table border=\"1\" class=\"dataframe\">\n",
       "  <thead>\n",
       "    <tr style=\"text-align: right;\">\n",
       "      <th></th>\n",
       "      <th>metric</th>\n",
       "      <th>pca</th>\n",
       "      <th>clusters</th>\n",
       "      <th>n_auroc</th>\n",
       "      <th>n_tnr</th>\n",
       "      <th>e_auroc</th>\n",
       "      <th>e_tnr</th>\n",
       "      <th>sklearn_auroc</th>\n",
       "      <th>global_mal_cov</th>\n",
       "    </tr>\n",
       "  </thead>\n",
       "  <tbody>\n",
       "    <tr>\n",
       "      <th>0</th>\n",
       "      <td>mahalanobis</td>\n",
       "      <td>10</td>\n",
       "      <td>prototypes</td>\n",
       "      <td>43.375665</td>\n",
       "      <td>0.00</td>\n",
       "      <td>0.333363</td>\n",
       "      <td>0.00</td>\n",
       "      <td>47.995792</td>\n",
       "      <td>True</td>\n",
       "    </tr>\n",
       "    <tr>\n",
       "      <th>1</th>\n",
       "      <td>mahalanobis</td>\n",
       "      <td>10</td>\n",
       "      <td>prototypes</td>\n",
       "      <td>43.375665</td>\n",
       "      <td>0.00</td>\n",
       "      <td>0.333363</td>\n",
       "      <td>0.00</td>\n",
       "      <td>47.995792</td>\n",
       "      <td>False</td>\n",
       "    </tr>\n",
       "    <tr>\n",
       "      <th>2</th>\n",
       "      <td>cosine</td>\n",
       "      <td>10</td>\n",
       "      <td>prototypes</td>\n",
       "      <td>70.912516</td>\n",
       "      <td>16.37</td>\n",
       "      <td>74.684123</td>\n",
       "      <td>11.14</td>\n",
       "      <td>75.230045</td>\n",
       "      <td>True</td>\n",
       "    </tr>\n",
       "    <tr>\n",
       "      <th>3</th>\n",
       "      <td>cosine</td>\n",
       "      <td>10</td>\n",
       "      <td>prototypes</td>\n",
       "      <td>70.912516</td>\n",
       "      <td>16.37</td>\n",
       "      <td>74.684123</td>\n",
       "      <td>11.14</td>\n",
       "      <td>75.230045</td>\n",
       "      <td>False</td>\n",
       "    </tr>\n",
       "    <tr>\n",
       "      <th>4</th>\n",
       "      <td>mahalanobis</td>\n",
       "      <td>10</td>\n",
       "      <td>prototypes</td>\n",
       "      <td>36.643526</td>\n",
       "      <td>0.00</td>\n",
       "      <td>0.270425</td>\n",
       "      <td>0.00</td>\n",
       "      <td>31.160693</td>\n",
       "      <td>True</td>\n",
       "    </tr>\n",
       "    <tr>\n",
       "      <th>5</th>\n",
       "      <td>mahalanobis</td>\n",
       "      <td>10</td>\n",
       "      <td>prototypes</td>\n",
       "      <td>36.643526</td>\n",
       "      <td>0.00</td>\n",
       "      <td>0.270425</td>\n",
       "      <td>0.00</td>\n",
       "      <td>31.160693</td>\n",
       "      <td>False</td>\n",
       "    </tr>\n",
       "    <tr>\n",
       "      <th>6</th>\n",
       "      <td>cosine</td>\n",
       "      <td>10</td>\n",
       "      <td>prototypes</td>\n",
       "      <td>93.819123</td>\n",
       "      <td>81.95</td>\n",
       "      <td>98.004371</td>\n",
       "      <td>87.27</td>\n",
       "      <td>98.157377</td>\n",
       "      <td>True</td>\n",
       "    </tr>\n",
       "    <tr>\n",
       "      <th>7</th>\n",
       "      <td>cosine</td>\n",
       "      <td>10</td>\n",
       "      <td>prototypes</td>\n",
       "      <td>93.819123</td>\n",
       "      <td>81.95</td>\n",
       "      <td>98.004371</td>\n",
       "      <td>87.27</td>\n",
       "      <td>98.157377</td>\n",
       "      <td>False</td>\n",
       "    </tr>\n",
       "    <tr>\n",
       "      <th>8</th>\n",
       "      <td>mahalanobis</td>\n",
       "      <td>10</td>\n",
       "      <td>prototypes</td>\n",
       "      <td>50.692852</td>\n",
       "      <td>11.17</td>\n",
       "      <td>0.223830</td>\n",
       "      <td>0.00</td>\n",
       "      <td>59.084254</td>\n",
       "      <td>True</td>\n",
       "    </tr>\n",
       "    <tr>\n",
       "      <th>9</th>\n",
       "      <td>mahalanobis</td>\n",
       "      <td>10</td>\n",
       "      <td>prototypes</td>\n",
       "      <td>50.692852</td>\n",
       "      <td>11.17</td>\n",
       "      <td>0.223830</td>\n",
       "      <td>0.00</td>\n",
       "      <td>59.084254</td>\n",
       "      <td>False</td>\n",
       "    </tr>\n",
       "    <tr>\n",
       "      <th>10</th>\n",
       "      <td>cosine</td>\n",
       "      <td>10</td>\n",
       "      <td>prototypes</td>\n",
       "      <td>80.411788</td>\n",
       "      <td>37.46</td>\n",
       "      <td>88.242021</td>\n",
       "      <td>54.22</td>\n",
       "      <td>88.826947</td>\n",
       "      <td>True</td>\n",
       "    </tr>\n",
       "    <tr>\n",
       "      <th>11</th>\n",
       "      <td>cosine</td>\n",
       "      <td>10</td>\n",
       "      <td>prototypes</td>\n",
       "      <td>80.411788</td>\n",
       "      <td>37.46</td>\n",
       "      <td>88.242021</td>\n",
       "      <td>54.22</td>\n",
       "      <td>88.826947</td>\n",
       "      <td>False</td>\n",
       "    </tr>\n",
       "  </tbody>\n",
       "</table>\n",
       "</div>"
      ],
      "text/plain": [
       "         metric  pca    clusters    n_auroc  n_tnr    e_auroc  e_tnr  \\\n",
       "0   mahalanobis   10  prototypes  43.375665   0.00   0.333363   0.00   \n",
       "1   mahalanobis   10  prototypes  43.375665   0.00   0.333363   0.00   \n",
       "2        cosine   10  prototypes  70.912516  16.37  74.684123  11.14   \n",
       "3        cosine   10  prototypes  70.912516  16.37  74.684123  11.14   \n",
       "4   mahalanobis   10  prototypes  36.643526   0.00   0.270425   0.00   \n",
       "5   mahalanobis   10  prototypes  36.643526   0.00   0.270425   0.00   \n",
       "6        cosine   10  prototypes  93.819123  81.95  98.004371  87.27   \n",
       "7        cosine   10  prototypes  93.819123  81.95  98.004371  87.27   \n",
       "8   mahalanobis   10  prototypes  50.692852  11.17   0.223830   0.00   \n",
       "9   mahalanobis   10  prototypes  50.692852  11.17   0.223830   0.00   \n",
       "10       cosine   10  prototypes  80.411788  37.46  88.242021  54.22   \n",
       "11       cosine   10  prototypes  80.411788  37.46  88.242021  54.22   \n",
       "\n",
       "    sklearn_auroc  global_mal_cov  \n",
       "0       47.995792            True  \n",
       "1       47.995792           False  \n",
       "2       75.230045            True  \n",
       "3       75.230045           False  \n",
       "4       31.160693            True  \n",
       "5       31.160693           False  \n",
       "6       98.157377            True  \n",
       "7       98.157377           False  \n",
       "8       59.084254            True  \n",
       "9       59.084254           False  \n",
       "10      88.826947            True  \n",
       "11      88.826947           False  "
      ]
     },
     "execution_count": 31,
     "metadata": {},
     "output_type": "execute_result"
    }
   ],
   "source": [
    "pd.DataFrame(ood_results)"
   ]
  },
  {
   "cell_type": "code",
   "execution_count": null,
   "id": "777a86bd",
   "metadata": {},
   "outputs": [],
   "source": [
    "new_all_results = []\n",
    "for res in ood_results:\n",
    "    gmm_res = res['gmm_results']\n",
    "    for k,v in gmm_res.items():\n",
    "        if k == \"gmm_results\":\n",
    "            k = \"gmm_default\"\n",
    "        res[k] = v\n",
    "    new_all_results.append(res)"
   ]
  },
  {
   "cell_type": "code",
   "execution_count": null,
   "id": "9462cbf5",
   "metadata": {},
   "outputs": [],
   "source": [
    "gmm_new_all_results  = pd.DataFrame(new_all_results)\n",
    "gmm_new_all_results"
   ]
  },
  {
   "cell_type": "code",
   "execution_count": null,
   "id": "93c72036",
   "metadata": {},
   "outputs": [],
   "source": [
    "sec_res = []\n",
    "_cols = ['auroc', 'sklearn-auroc', 'gmm_default', 'gmm_max_prob', 'gmm_weighted_max_prob']\n",
    "for _d in new_all_results:\n",
    "    for i in _cols:\n",
    "        point = {}\n",
    "        point[\"ood\"] = _d['ood']\n",
    "        point[\"cluster\"] = _d['cluster']\n",
    "        point[\"pca\"] = _d['pca']\n",
    "        point[\"metric\"] = _d['metric']\n",
    "        \n",
    "        if i == 'auroc':\n",
    "            _t = f'cluster-auroc-{point[\"metric\"]}'\n",
    "            point[\"auroc\"] = _d[f'{i}']\n",
    "        elif i == 'sklearn-auroc':\n",
    "            _t = f'global-auroc-{point[\"metric\"]}'\n",
    "            point[\"auroc\"] = _d[f'{i}']\n",
    "        else:\n",
    "            _t = i\n",
    "            point[\"auroc\"] = _d[f'{i}'] * 100\n",
    "        point[\"auroc_type\"] = _t\n",
    "        sec_res.append(point)"
   ]
  },
  {
   "cell_type": "code",
   "execution_count": null,
   "id": "ec4fcdda",
   "metadata": {},
   "outputs": [],
   "source": [
    "sec_res = pd.DataFrame(sec_res)"
   ]
  },
  {
   "cell_type": "code",
   "execution_count": null,
   "id": "c98bbcb2",
   "metadata": {
    "scrolled": true
   },
   "outputs": [],
   "source": [
    "sec_res "
   ]
  },
  {
   "cell_type": "code",
   "execution_count": null,
   "id": "3212f7d0",
   "metadata": {
    "scrolled": false
   },
   "outputs": [],
   "source": [
    "in_train_y = id_im2cluster\n",
    "train_dis = Counter(in_train_y)\n"
   ]
  },
  {
   "cell_type": "code",
   "execution_count": null,
   "id": "e73b01c6",
   "metadata": {},
   "outputs": [],
   "source": [
    "plt.bar(np.arange(len(train_dis)), [v for i,v in train_dis.most_common()])"
   ]
  },
  {
   "cell_type": "code",
   "execution_count": null,
   "id": "f1f705cc",
   "metadata": {
    "scrolled": true
   },
   "outputs": [],
   "source": [
    "cs = cluster_purity(in_train_y, id_train_targ)"
   ]
  },
  {
   "cell_type": "code",
   "execution_count": null,
   "id": "068e54a6",
   "metadata": {
    "scrolled": true
   },
   "outputs": [],
   "source": [
    "cp_p_clus = [[] for i in range(768)]\n",
    "for pred, gt in zip(in_train_y, id_train_targ):\n",
    "    cp_p_clus[pred].append(class_names[gt])"
   ]
  },
  {
   "cell_type": "code",
   "execution_count": null,
   "id": "7cad196a",
   "metadata": {},
   "outputs": [],
   "source": [
    "a = [k for i,k in Counter(cp_p_clus[20]).most_common()]\n",
    "a/np.sum(a)"
   ]
  },
  {
   "cell_type": "code",
   "execution_count": null,
   "id": "be70b7f3",
   "metadata": {},
   "outputs": [],
   "source": [
    "cs[20]"
   ]
  },
  {
   "cell_type": "code",
   "execution_count": null,
   "id": "8827b109",
   "metadata": {
    "scrolled": true
   },
   "outputs": [],
   "source": [
    "dom_class = [Counter(i).most_common()[0][0] for i in cp_p_clus]\n",
    "dom_class"
   ]
  },
  {
   "cell_type": "code",
   "execution_count": null,
   "id": "f8887bc8",
   "metadata": {
    "scrolled": true
   },
   "outputs": [],
   "source": [
    "_train_dis = dict(train_dis)\n",
    "_train_dis = sorted(_train_dis.items(), key=lambda x: x[0])\n",
    "_, _train_dis_y = zip(*_train_dis)\n",
    "plt.bar(np.arange(len(_train_dis_y)), _train_dis_y)"
   ]
  },
  {
   "cell_type": "code",
   "execution_count": null,
   "id": "ff339c8f",
   "metadata": {},
   "outputs": [],
   "source": [
    "fig = plt.figure(figsize=(10, 6))\n",
    "plt.title(f\"Cluster Count Distribution for 768 Clusters on Feature Layer\")\n",
    "plt.ylabel(\"Count per Cluster\")\n",
    "plt.xlabel(\"Cluster number\")\n",
    "plt.grid()\n",
    "plt.bar(np.arange(len(_train_dis_y)), _train_dis_y)\n",
    "#plt.bar(np.arange(len(train_dis)), [v for i,v in train_dis.most_common()])\n",
    "#plt.xlabel(\"Cluster number - sorted by count\")\n",
    "plt.legend()\n",
    "plt.savefig(f\"../cache/proto-feat\")"
   ]
  },
  {
   "cell_type": "code",
   "execution_count": null,
   "id": "6e75a1b6",
   "metadata": {},
   "outputs": [],
   "source": []
  },
  {
   "cell_type": "code",
   "execution_count": null,
   "id": "5ef5b589",
   "metadata": {},
   "outputs": [],
   "source": [
    "fig = plt.figure(figsize=(50, 6))\n",
    "plt.title(f\"Cluster Count Distribution for 768 Clusters on FC Layer\")\n",
    "plt.bar(np.arange(len(cs)), _train_dis_y)\n",
    "plt.bar(np.arange(len(cs)), [cs[i]*_train_dis_y[i] for i in range(768)], label=\"purity level\")\n",
    "plt.ylabel(\"Cluster Count\")\n",
    "plt.xlabel(\"Dominant Class in Cluster\")\n",
    "plt.xticks(np.arange(len(cs)), dom_class, rotation=90)\n",
    "plt.grid()\n",
    "plt.legend()\n",
    "plt.savefig(f\"../cache/proto-fc-count\")"
   ]
  },
  {
   "cell_type": "code",
   "execution_count": null,
   "id": "06fd1b72",
   "metadata": {},
   "outputs": [],
   "source": [
    "res_2 = []\n",
    "for i in range(len(cs)):\n",
    "    _d = {}\n",
    "    _d[\"cluster purty\"] = cs[i] * 100\n",
    "    _d[\"normalized cluster count\"] = _train_dis_y[i]/500\n",
    "    res_2.append(_d)"
   ]
  },
  {
   "cell_type": "code",
   "execution_count": null,
   "id": "c52cb56e",
   "metadata": {},
   "outputs": [],
   "source": [
    "res_2 = pd.DataFrame(res_2)"
   ]
  },
  {
   "cell_type": "code",
   "execution_count": null,
   "id": "9d5a5711",
   "metadata": {},
   "outputs": [],
   "source": [
    "fig = plt.figure(figsize=(10, 6))\n",
    "plt.title(f\"GMM - Cosine, OOD CIFAR100, PCA 10\")\n",
    "sns.barplot(x=\"cluster\", y=\"auroc\", \\\n",
    "                    data=sec_res[sec_res.metric==\"cosine\"], hue=\"auroc_type\")\n",
    "plt.xlabel(\"Number of Clusters\")\n",
    "plt.ylabel(\"AUROC\")\n",
    "plt.grid()\n",
    "plt.savefig(f\"../cache/gmm-glob-cosine\")\n",
    "plt.legend(loc=\"center right\")"
   ]
  },
  {
   "cell_type": "code",
   "execution_count": null,
   "id": "8f20a53c",
   "metadata": {},
   "outputs": [],
   "source": [
    "res = pd.DataFrame(ood_results)"
   ]
  },
  {
   "cell_type": "code",
   "execution_count": null,
   "id": "ba559c8c",
   "metadata": {},
   "outputs": [],
   "source": [
    "for ood in oods:\n",
    "    for pca_com in pcas:\n",
    "        fig = plt.figure(figsize=(8, 6))\n",
    "        plt.title(f\"Kmeans - OOD: {ood}, PCA: {pca_com}\")\n",
    "        sns.barplot(x=\"cluster\", y=\"sklearn-auroc\", \\\n",
    "                    data=res[(res.ood==ood) & (res.pca == pca_com)], hue=\"metric\")\n",
    "        plt.grid()\n",
    "        plt.ylabel(\"Global AUROC\")\n",
    "        plt.xlabel(\"Number of Clusters\")\n",
    "        plt.savefig(f\"../cache/kmeans-glob-{ood}-{pca_com}\")\n",
    "        plt.clf()"
   ]
  },
  {
   "cell_type": "code",
   "execution_count": null,
   "id": "a093dfad",
   "metadata": {},
   "outputs": [],
   "source": []
  },
  {
   "cell_type": "code",
   "execution_count": null,
   "id": "efa7b8eb",
   "metadata": {},
   "outputs": [],
   "source": [
    "f = res[(res.ood==\"CIFAR100\") & (res.pca == 10)]\n",
    "f = f.sort_values(by=['sklearn-auroc'], ascending=False)\n",
    "plt.figure(figsize=(8, 6))\n",
    "_d = f.iloc[0]\n",
    "plt.title(f\"Distance Score distribution:\\n Cluster AUROC {_d.auroc}, Global AUROC {_d['sklearn-auroc']} \\n Kmeans, {_d.metric.capitalize()}, PCA {_d.pca}, Cluster {_d.cluster}\")\n",
    "plt.hist(_d.o_pred, alpha=0.5, label=\"ood\")\n",
    "plt.hist(_d.i_pred, alpha=0.5, label=\"id\")\n",
    "plt.ylabel(\"Count\")\n",
    "plt.xlabel(\"Distance Score\")\n",
    "plt.legend()\n",
    "plt.savefig(f\"../cache/kmeans-discore-{_d.ood}-{_d.pca}\")"
   ]
  },
  {
   "cell_type": "code",
   "execution_count": null,
   "id": "c5101eb9",
   "metadata": {},
   "outputs": [],
   "source": [
    "f"
   ]
  },
  {
   "cell_type": "code",
   "execution_count": null,
   "id": "783ed540",
   "metadata": {},
   "outputs": [],
   "source": [
    "ood_results_s = pd.DataFrame(ood_results_s)"
   ]
  },
  {
   "cell_type": "code",
   "execution_count": null,
   "id": "b91d923d",
   "metadata": {},
   "outputs": [],
   "source": [
    "ood_results.sort_values(by=[\"sklearn-auroc\"], ascending=False)"
   ]
  },
  {
   "cell_type": "code",
   "execution_count": null,
   "id": "9db3b9c0",
   "metadata": {},
   "outputs": [],
   "source": [
    "plt.figure(figsize=(8, 6))\n",
    "plt.plot(ood_results_s[\"clip\"] * 100, ood_results_s.auroc, label=\"AUROC\")\n",
    "plt.plot(ood_results_s[\"clip\"] * 100, ood_results_s[\"sklearn-auroc\"] * 100,  label=\"Sklearn AUROC\")\n",
    "plt.plot(ood_results_s[\"clip\"] * 100, ood_results[\"tnr@tpr95\"], label=\"TNR@TPR95\")\n",
    "plt.xlabel(\"Clip Percentage\")\n",
    "plt.ylabel(\"AUROC / TNR@TPR95\")\n",
    "plt.title(\"OOD: SVHN, Metric: Cosine, Original Protype Count: 768\")\n",
    "plt.legend()\n",
    "plt.savefig(\"../cache/sec-SVHN-clip-plot\")"
   ]
  },
  {
   "cell_type": "code",
   "execution_count": null,
   "id": "6af4a2f6",
   "metadata": {},
   "outputs": [],
   "source": [
    "#sns.set_theme(style=\"whitegrid\", palette=\"dark\")\n",
    "#plt.rcdefaults()\n",
    "bc = oe.assgn_before_clip\n",
    "plt.figure(figsize=(8, 6))\n",
    "plt.bar(np.arange(len(bc)), bc, align='center', color=['blue'])\n",
    "plt.xlabel(\"Cluster Number\")\n",
    "plt.ylabel(\"Count per Cluster\")\n",
    "plt.title(\"Distribution before Clipping\")\n",
    "plt.savefig(\"../cache/sec-dist-b-clip.jpg\")"
   ]
  },
  {
   "cell_type": "code",
   "execution_count": null,
   "id": "5880be10",
   "metadata": {},
   "outputs": [],
   "source": [
    "plt.figure(figsize=(8, 6))\n",
    "ac = oe.assgn_after_clip\n",
    "plt.bar(np.arange(len(ac)), ac, align='center', color=['blue'])\n",
    "plt.xlabel(\"Cluster Number\")\n",
    "plt.ylabel(\"Count per Cluster\")\n",
    "plt.title(\"Distribution after Clipping 50% of Clusters\")\n",
    "plt.savefig(\"../cache/sec-dist-a-clip.jpg\")"
   ]
  },
  {
   "cell_type": "code",
   "execution_count": null,
   "id": "58f4ddb8",
   "metadata": {},
   "outputs": [],
   "source": [
    "plt.hist(oe.out_pred_score)\n",
    "plt.hist(oe.test_pred_score)"
   ]
  },
  {
   "cell_type": "code",
   "execution_count": null,
   "id": "1f306ca4",
   "metadata": {},
   "outputs": [],
   "source": [
    "plt.hist(cluster_purity(id_ap_im2cluster, id_train_targets))"
   ]
  },
  {
   "cell_type": "code",
   "execution_count": null,
   "id": "d7605a15",
   "metadata": {},
   "outputs": [],
   "source": [
    "plt.hist(cluster_purity(id_fc_im2cluster, id_train_targets))"
   ]
  },
  {
   "cell_type": "code",
   "execution_count": null,
   "id": "b0733b15",
   "metadata": {},
   "outputs": [],
   "source": [
    "plt.hist(cluster_purity(run_clustering(id_train_fc, 30)[0], id_train_targets))"
   ]
  },
  {
   "cell_type": "code",
   "execution_count": null,
   "id": "0ceb7b48",
   "metadata": {},
   "outputs": [],
   "source": [
    "plt.hist(cluster_purity(run_clustering(id_train_ap, 30)[0], id_train_targets))"
   ]
  },
  {
   "cell_type": "code",
   "execution_count": null,
   "id": "99c58738",
   "metadata": {},
   "outputs": [],
   "source": []
  },
  {
   "cell_type": "markdown",
   "id": "e0291912",
   "metadata": {},
   "source": [
    "## Resnet18 Model"
   ]
  },
  {
   "cell_type": "code",
   "execution_count": null,
   "id": "f3591f62",
   "metadata": {},
   "outputs": [],
   "source": [
    "ckpt_root = \"/data/temiloluwa.adeoti/fourth_experiments/CIFAR10_clus_768_neg_256/exp_202/\"\n",
    "sns.set_theme(style=\"whitegrid\", palette=\"dark\")"
   ]
  },
  {
   "cell_type": "code",
   "execution_count": null,
   "id": "5f72913d",
   "metadata": {},
   "outputs": [],
   "source": [
    "f = [i for i in os.walk(ckpt_root)  for j in i if \"results.pickle\" in j]\n",
    "g = [(v[0] + \"/results.pickle\", v[0].split(\"/\")[-1].split(\"_\")) for v in f]\n",
    "g = [(v, w[2], int(w[4]), w[-1]) for v, w in g]\n",
    "len(g)"
   ]
  },
  {
   "cell_type": "code",
   "execution_count": null,
   "id": "fd7a2f93",
   "metadata": {},
   "outputs": [],
   "source": [
    "all_dat = []\n",
    "for dat in g:\n",
    "    temp = pd.read_pickle(dat[0])\n",
    "    temp = pd.DataFrame(temp)\n",
    "    temp[\"encoder\"] = dat[1]\n",
    "    temp[\"ckpt\"] = dat[2]\n",
    "    temp[\"output_layer\"] = \"avg_pool\" if dat[3] == \"pool\" else \"fc\"\n",
    "    all_dat.append(temp)\n",
    "all_dat = pd.concat(all_dat)"
   ]
  },
  {
   "cell_type": "code",
   "execution_count": null,
   "id": "29061661",
   "metadata": {},
   "outputs": [],
   "source": [
    "#all_dat.to_pickle(\"../cache/exp_202_resnet18_all_data.pickle\")\n",
    "from itertools import product\n",
    "ds = \"SVHN\""
   ]
  },
  {
   "cell_type": "code",
   "execution_count": null,
   "id": "d4ae81e9",
   "metadata": {},
   "outputs": [],
   "source": [
    "ood_dat = all_dat[all_dat.ood == ds]\n",
    "ood_100_dat = ood_dat.sort_values(by=[\"auroc\"], ascending=False)"
   ]
  },
  {
   "cell_type": "code",
   "execution_count": null,
   "id": "7c25baa4",
   "metadata": {},
   "outputs": [],
   "source": [
    "ood_100_dat.clusters.unique()"
   ]
  },
  {
   "cell_type": "code",
   "execution_count": null,
   "id": "ed696c3f",
   "metadata": {},
   "outputs": [],
   "source": [
    "mets = [\"cosine\", \"mahalanobis\"]\n",
    "pcas = [0, 10]\n",
    "output_layers = [\"fc\", \"avg_pool\"]\n",
    "encoders = [\"query\", \"key\"]\n",
    "fig = plt.figure(figsize=(8, 6))\n",
    "for output_layer, encoder, pca in product(output_layers, encoders, pcas):\n",
    "    for met in mets:\n",
    "        ood_100_dat_analyse = ood_100_dat[(ood_100_dat.metric==met) & (ood_100_dat[\"pca components\"] == pca)]\n",
    "        dat = ood_100_dat_analyse[(ood_100_dat_analyse.output_layer==output_layer) & (ood_100_dat_analyse.encoder==encoder)]\n",
    "        dat = dat.sort_values(by=[\"ckpt\"])\n",
    "        plt.plot(dat.ckpt, dat.auroc, label=met)\n",
    "        plt.xlabel(\"Epochs\")\n",
    "        plt.ylabel(\"AUROC\")\n",
    "        plt.legend()\n",
    "        plt.title(f\"Encoder: {encoder.capitalize()}, Output-Layer:{output_layer.capitalize()}, PCA: {pca}\")\n",
    "        plt.savefig(f\"../cache/{ds}-{encoder}-{output_layer}-{pca}.jpg\")\n",
    "    fig.clf()"
   ]
  },
  {
   "cell_type": "code",
   "execution_count": null,
   "id": "9258a452",
   "metadata": {},
   "outputs": [],
   "source": []
  },
  {
   "cell_type": "code",
   "execution_count": null,
   "id": "3d889c8c",
   "metadata": {},
   "outputs": [],
   "source": []
  },
  {
   "cell_type": "markdown",
   "id": "558ea5e7",
   "metadata": {},
   "source": [
    "## accuracies"
   ]
  },
  {
   "cell_type": "code",
   "execution_count": null,
   "id": "2143d8cb",
   "metadata": {},
   "outputs": [],
   "source": [
    "h = [i for i in os.walk(ckpt_root)  for j in i for k in j if \"accuracies.txt\" in k]\n",
    "h = [(i[0], k) for i in h for j in i for k in j if \".txt\" in k]\n",
    "k = [os.path.join(*v) for v in h]\n",
    "h = [v[0].split(\"/\")[-2].split(\"_\") for v in h]\n",
    "h = [(v[2], int(v[4]), v[-1]) for v in h]"
   ]
  },
  {
   "cell_type": "code",
   "execution_count": null,
   "id": "8d0cd825",
   "metadata": {},
   "outputs": [],
   "source": [
    "k = [open(h, \"r\").readlines() for h in k]\n",
    "k = [i[0] for i in k]\n",
    "k = [i.split(\" \") for i in k]\n",
    "n = []\n",
    "for j in k:\n",
    "    temp = []\n",
    "    for i in j:\n",
    "        if \"%\" in i:\n",
    "            temp.append(float(i.strip(\"%\")))\n",
    "    n.append(temp)"
   ]
  },
  {
   "cell_type": "code",
   "execution_count": null,
   "id": "0447adff",
   "metadata": {},
   "outputs": [],
   "source": [
    "acc_data = []\n",
    "for (encoder, ckpt, layer),(train_acc, test_acc) in zip(h, n):\n",
    "    acc_data.append({\"encoder\":encoder, \n",
    "               \"ckpt\":ckpt,\n",
    "                \"output_layer\": \"avg_pool\" if layer==\"pool\" else \"fc\",\n",
    "                \"train_acc\": train_acc,\n",
    "                \"test_acc\": test_acc})"
   ]
  },
  {
   "cell_type": "code",
   "execution_count": null,
   "id": "5b7f7e19",
   "metadata": {},
   "outputs": [],
   "source": [
    "acc_data = pd.DataFrame(acc_data).sort_values(by=[\"encoder\", \"ckpt\"])\n",
    "acc_data.head()"
   ]
  },
  {
   "cell_type": "code",
   "execution_count": null,
   "id": "a2743289",
   "metadata": {},
   "outputs": [],
   "source": [
    "#acc_data.to_pickle(\"../cache/exp_202_resnet18_acc_data.pickle\")"
   ]
  },
  {
   "cell_type": "code",
   "execution_count": null,
   "id": "814d2880",
   "metadata": {},
   "outputs": [],
   "source": [
    "max_accuracies = []"
   ]
  },
  {
   "cell_type": "code",
   "execution_count": null,
   "id": "55dc883e",
   "metadata": {},
   "outputs": [],
   "source": [
    "fig = plt.figure(figsize=(8, 6))\n",
    "for output_layer, encoder in product(output_layers, encoders):\n",
    "    acc_analyse = acc_data[(acc_data.encoder==encoder) & (acc_data.output_layer==output_layer)]\n",
    "    plt.plot(acc_analyse.ckpt, acc_analyse.train_acc, label=\"train accuracy\")\n",
    "    plt.plot(acc_analyse.ckpt, acc_analyse.test_acc, label=\"test accuracy\")\n",
    "    plt.legend()\n",
    "    plt.xlabel(\"Accuracy\")\n",
    "    plt.ylabel(\"Epochs\")\n",
    "    plt.legend()\n",
    "    plt.title(f\"Encoder: {encoder.capitalize()}, Output-Layer:{output_layer.capitalize()}\")\n",
    "    plt.savefig(f\"../cache/acc-{encoder}-{output_layer}.jpg\")\n",
    "    fig.clf()\n",
    "    bes = acc_analyse.sort_values(by=[\"train_acc\"], ascending=False).iloc[0, :]\n",
    "    max_accuracies.append({\"encoder\": encoder, \"output_layer\": output_layer, \"best_ckpt\":bes.ckpt, \"best_test_acc\":bes.train_acc})"
   ]
  },
  {
   "cell_type": "code",
   "execution_count": null,
   "id": "691906ec",
   "metadata": {},
   "outputs": [],
   "source": [
    "pd.DataFrame(max_accuracies).to_excel(\"../cache/best_train_acc.xlsx\")"
   ]
  },
  {
   "cell_type": "code",
   "execution_count": null,
   "id": "25666b84",
   "metadata": {},
   "outputs": [],
   "source": []
  }
 ],
 "metadata": {
  "kernelspec": {
   "display_name": "prototypical-env",
   "language": "python",
   "name": "prototypical-env"
  },
  "language_info": {
   "codemirror_mode": {
    "name": "ipython",
    "version": 3
   },
   "file_extension": ".py",
   "mimetype": "text/x-python",
   "name": "python",
   "nbconvert_exporter": "python",
   "pygments_lexer": "ipython3",
   "version": "3.8.10"
  }
 },
 "nbformat": 4,
 "nbformat_minor": 5
}
