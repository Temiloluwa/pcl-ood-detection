{
 "cells": [
  {
   "cell_type": "code",
   "execution_count": 1,
   "id": "5ccf1205",
   "metadata": {},
   "outputs": [],
   "source": [
    "import os\n",
    "os.chdir(\"../\")"
   ]
  },
  {
   "cell_type": "code",
   "execution_count": 2,
   "id": "bd3cc8ce",
   "metadata": {},
   "outputs": [
    {
     "data": {
      "text/plain": [
       "'/home2/temiloluwa.adeoti/contrastive_ood_detection'"
      ]
     },
     "execution_count": 2,
     "metadata": {},
     "output_type": "execute_result"
    }
   ],
   "source": [
    "os.getcwd()"
   ]
  },
  {
   "cell_type": "code",
   "execution_count": 3,
   "id": "72cb163d",
   "metadata": {},
   "outputs": [],
   "source": [
    "from pathlib import Path\n",
    "from matplotlib import pyplot as plt\n",
    "from imagereconstruction import ckpt_root, config, \\\n",
    "                attach_hook, freeze_encoder, Decoder, lr\n",
    "from datasets.get_data import get_ensemble_eval_loaders\n",
    "from torchvision import models\n",
    "from utils import load_contrastive_model\n",
    "from tqdm import tqdm\n",
    "import seaborn as sns\n",
    "import pandas as pd\n",
    "import numpy as np\n",
    "import torch\n",
    "import torch.nn as nn\n",
    "import pickle"
   ]
  },
  {
   "cell_type": "code",
   "execution_count": 6,
   "id": "3386a202",
   "metadata": {
    "scrolled": true
   },
   "outputs": [
    {
     "name": "stdout",
     "output_type": "stream",
     "text": [
      "loaded contrastive model @ ckpt: /data/temiloluwa.adeoti/third_experiments/CIFAR10_clus_2816_neg_2560/exp_0/checkpoints/checkpoint_0199.pth.tar\n",
      "Outputing contrastive model from Avgpool Layer\n",
      "param conv1.weight frozen\n",
      "param bn1.weight frozen\n",
      "param bn1.bias frozen\n",
      "param layer1.0.conv1.weight frozen\n",
      "param layer1.0.bn1.weight frozen\n",
      "param layer1.0.bn1.bias frozen\n",
      "param layer1.0.conv2.weight frozen\n",
      "param layer1.0.bn2.weight frozen\n",
      "param layer1.0.bn2.bias frozen\n",
      "param layer1.0.conv3.weight frozen\n",
      "param layer1.0.bn3.weight frozen\n",
      "param layer1.0.bn3.bias frozen\n",
      "param layer1.0.downsample.0.weight frozen\n",
      "param layer1.0.downsample.1.weight frozen\n",
      "param layer1.0.downsample.1.bias frozen\n",
      "param layer1.1.conv1.weight frozen\n",
      "param layer1.1.bn1.weight frozen\n",
      "param layer1.1.bn1.bias frozen\n",
      "param layer1.1.conv2.weight frozen\n",
      "param layer1.1.bn2.weight frozen\n",
      "param layer1.1.bn2.bias frozen\n",
      "param layer1.1.conv3.weight frozen\n",
      "param layer1.1.bn3.weight frozen\n",
      "param layer1.1.bn3.bias frozen\n",
      "param layer1.2.conv1.weight frozen\n",
      "param layer1.2.bn1.weight frozen\n",
      "param layer1.2.bn1.bias frozen\n",
      "param layer1.2.conv2.weight frozen\n",
      "param layer1.2.bn2.weight frozen\n",
      "param layer1.2.bn2.bias frozen\n",
      "param layer1.2.conv3.weight frozen\n",
      "param layer1.2.bn3.weight frozen\n",
      "param layer1.2.bn3.bias frozen\n",
      "param layer2.0.conv1.weight frozen\n",
      "param layer2.0.bn1.weight frozen\n",
      "param layer2.0.bn1.bias frozen\n",
      "param layer2.0.conv2.weight frozen\n",
      "param layer2.0.bn2.weight frozen\n",
      "param layer2.0.bn2.bias frozen\n",
      "param layer2.0.conv3.weight frozen\n",
      "param layer2.0.bn3.weight frozen\n",
      "param layer2.0.bn3.bias frozen\n",
      "param layer2.0.downsample.0.weight frozen\n",
      "param layer2.0.downsample.1.weight frozen\n",
      "param layer2.0.downsample.1.bias frozen\n",
      "param layer2.1.conv1.weight frozen\n",
      "param layer2.1.bn1.weight frozen\n",
      "param layer2.1.bn1.bias frozen\n",
      "param layer2.1.conv2.weight frozen\n",
      "param layer2.1.bn2.weight frozen\n",
      "param layer2.1.bn2.bias frozen\n",
      "param layer2.1.conv3.weight frozen\n",
      "param layer2.1.bn3.weight frozen\n",
      "param layer2.1.bn3.bias frozen\n",
      "param layer2.2.conv1.weight frozen\n",
      "param layer2.2.bn1.weight frozen\n",
      "param layer2.2.bn1.bias frozen\n",
      "param layer2.2.conv2.weight frozen\n",
      "param layer2.2.bn2.weight frozen\n",
      "param layer2.2.bn2.bias frozen\n",
      "param layer2.2.conv3.weight frozen\n",
      "param layer2.2.bn3.weight frozen\n",
      "param layer2.2.bn3.bias frozen\n",
      "param layer2.3.conv1.weight frozen\n",
      "param layer2.3.bn1.weight frozen\n",
      "param layer2.3.bn1.bias frozen\n",
      "param layer2.3.conv2.weight frozen\n",
      "param layer2.3.bn2.weight frozen\n",
      "param layer2.3.bn2.bias frozen\n",
      "param layer2.3.conv3.weight frozen\n",
      "param layer2.3.bn3.weight frozen\n",
      "param layer2.3.bn3.bias frozen\n",
      "param layer3.0.conv1.weight frozen\n",
      "param layer3.0.bn1.weight frozen\n",
      "param layer3.0.bn1.bias frozen\n",
      "param layer3.0.conv2.weight frozen\n",
      "param layer3.0.bn2.weight frozen\n",
      "param layer3.0.bn2.bias frozen\n",
      "param layer3.0.conv3.weight frozen\n",
      "param layer3.0.bn3.weight frozen\n",
      "param layer3.0.bn3.bias frozen\n",
      "param layer3.0.downsample.0.weight frozen\n",
      "param layer3.0.downsample.1.weight frozen\n",
      "param layer3.0.downsample.1.bias frozen\n",
      "param layer3.1.conv1.weight frozen\n",
      "param layer3.1.bn1.weight frozen\n",
      "param layer3.1.bn1.bias frozen\n",
      "param layer3.1.conv2.weight frozen\n",
      "param layer3.1.bn2.weight frozen\n",
      "param layer3.1.bn2.bias frozen\n",
      "param layer3.1.conv3.weight frozen\n",
      "param layer3.1.bn3.weight frozen\n",
      "param layer3.1.bn3.bias frozen\n",
      "param layer3.2.conv1.weight frozen\n",
      "param layer3.2.bn1.weight frozen\n",
      "param layer3.2.bn1.bias frozen\n",
      "param layer3.2.conv2.weight frozen\n",
      "param layer3.2.bn2.weight frozen\n",
      "param layer3.2.bn2.bias frozen\n",
      "param layer3.2.conv3.weight frozen\n",
      "param layer3.2.bn3.weight frozen\n",
      "param layer3.2.bn3.bias frozen\n",
      "param layer3.3.conv1.weight frozen\n",
      "param layer3.3.bn1.weight frozen\n",
      "param layer3.3.bn1.bias frozen\n",
      "param layer3.3.conv2.weight frozen\n",
      "param layer3.3.bn2.weight frozen\n",
      "param layer3.3.bn2.bias frozen\n",
      "param layer3.3.conv3.weight frozen\n",
      "param layer3.3.bn3.weight frozen\n",
      "param layer3.3.bn3.bias frozen\n",
      "param layer3.4.conv1.weight frozen\n",
      "param layer3.4.bn1.weight frozen\n",
      "param layer3.4.bn1.bias frozen\n",
      "param layer3.4.conv2.weight frozen\n",
      "param layer3.4.bn2.weight frozen\n",
      "param layer3.4.bn2.bias frozen\n",
      "param layer3.4.conv3.weight frozen\n",
      "param layer3.4.bn3.weight frozen\n",
      "param layer3.4.bn3.bias frozen\n",
      "param layer3.5.conv1.weight frozen\n",
      "param layer3.5.bn1.weight frozen\n",
      "param layer3.5.bn1.bias frozen\n",
      "param layer3.5.conv2.weight frozen\n",
      "param layer3.5.bn2.weight frozen\n",
      "param layer3.5.bn2.bias frozen\n",
      "param layer3.5.conv3.weight frozen\n",
      "param layer3.5.bn3.weight frozen\n",
      "param layer3.5.bn3.bias frozen\n",
      "param layer4.0.conv1.weight frozen\n",
      "param layer4.0.bn1.weight frozen\n",
      "param layer4.0.bn1.bias frozen\n",
      "param layer4.0.conv2.weight frozen\n",
      "param layer4.0.bn2.weight frozen\n",
      "param layer4.0.bn2.bias frozen\n",
      "param layer4.0.conv3.weight frozen\n",
      "param layer4.0.bn3.weight frozen\n",
      "param layer4.0.bn3.bias frozen\n",
      "param layer4.0.downsample.0.weight frozen\n",
      "param layer4.0.downsample.1.weight frozen\n",
      "param layer4.0.downsample.1.bias frozen\n",
      "param layer4.1.conv1.weight frozen\n",
      "param layer4.1.bn1.weight frozen\n",
      "param layer4.1.bn1.bias frozen\n",
      "param layer4.1.conv2.weight frozen\n",
      "param layer4.1.bn2.weight frozen\n",
      "param layer4.1.bn2.bias frozen\n",
      "param layer4.1.conv3.weight frozen\n",
      "param layer4.1.bn3.weight frozen\n",
      "param layer4.1.bn3.bias frozen\n",
      "param layer4.2.conv1.weight frozen\n",
      "param layer4.2.bn1.weight frozen\n",
      "param layer4.2.bn1.bias frozen\n",
      "param layer4.2.conv2.weight frozen\n",
      "param layer4.2.bn2.weight frozen\n",
      "param layer4.2.bn2.bias frozen\n",
      "param layer4.2.conv3.weight frozen\n",
      "param layer4.2.bn3.weight frozen\n",
      "param layer4.2.bn3.bias frozen\n",
      "No Skip Connect\n",
      "Using Skip Connect\n"
     ]
    }
   ],
   "source": [
    "gpu = 2\n",
    "gpu2 = 3\n",
    "num_classes = 10\n",
    "encoder = models.__dict__['resnet50'](num_classes=num_classes).cuda(gpu)\n",
    "encoder = load_contrastive_model(ckpt_root, config, 128, encoder)\n",
    "encoder = attach_hook(encoder)\n",
    "encoder = freeze_encoder(encoder)\n",
    "\n",
    "layer_4_output = False\n",
    "\n",
    "class AutoEncoder(nn.Module):\n",
    "    def __init__(self, skip_connect, layer_4_output, gpu):\n",
    "        super().__init__()\n",
    "        self.encoder = encoder\n",
    "        self.decoder = Decoder(skip_connect, layer_4_output).cuda(gpu)\n",
    "        self.layer_4_output = layer_4_output \n",
    "\n",
    "    def forward(self, x, decoder_input=False):\n",
    "        if not decoder_input:\n",
    "            self.encoder(x)\n",
    "            features = [self.encoder.output3, self.encoder.output2, self.encoder.output1]\n",
    "            if layer_4_output:\n",
    "                o = self.encoder.output4\n",
    "            else:\n",
    "                x = self.encoder.avg_outputs\n",
    "                features = [self.encoder.output4] + features\n",
    "        else:\n",
    "            if not self.decoder.skip_connect:\n",
    "                features = []\n",
    "            else:\n",
    "                raise NotImplementedError\n",
    "\n",
    "        o = self.decoder(x, features)\n",
    "\n",
    "        return o\n",
    "\n",
    "\n",
    "batch_size = 32\n",
    "model = AutoEncoder(skip_connect = False, gpu=gpu, layer_4_output = layer_4_output)\n",
    "model2 = AutoEncoder(skip_connect = True, gpu=gpu2, layer_4_output = layer_4_output)\n",
    "optimizer = torch.optim.SGD(model.parameters(), lr)\n",
    "criterion = nn.MSELoss().cuda(gpu)\n",
    "\n",
    "train_loader, test_loader = get_ensemble_eval_loaders(\"CIFAR10\", \"CIFAR10\", batch_size)"
   ]
  },
  {
   "cell_type": "code",
   "execution_count": 106,
   "id": "a530737e",
   "metadata": {},
   "outputs": [
    {
     "data": {
      "text/plain": [
       "<All keys matched successfully>"
      ]
     },
     "execution_count": 106,
     "metadata": {},
     "output_type": "execute_result"
    }
   ],
   "source": [
    "ckpt_path = f\"./cache/no_skip_connect_no_layer_4_output_2_visual_model.pth.tar\"\n",
    "ckpt_path2 = f\"./cache/skip_connect_no_layer_4_output_visual_model.pth.tar\"\n",
    "checkpoint = torch.load(ckpt_path, map_location=f\"cuda:{gpu}\")\n",
    "model.load_state_dict(checkpoint['state_dict'])\n",
    "checkpoint = torch.load(ckpt_path2, map_location=f\"cuda:{gpu2}\")\n",
    "model2.load_state_dict(checkpoint['state_dict'])"
   ]
  },
  {
   "cell_type": "code",
   "execution_count": 7,
   "id": "bf2add34",
   "metadata": {},
   "outputs": [],
   "source": [
    "eval_data = next(iter(test_loader))"
   ]
  },
  {
   "cell_type": "code",
   "execution_count": 9,
   "id": "799919b2",
   "metadata": {},
   "outputs": [],
   "source": [
    "from functools import partial\n",
    "_mean=np.array([0.491, 0.482, 0.447]).reshape([1, 3, 1, 1])\n",
    "_std=np.array([0.247, 0.243, 0.262]).reshape([1, 3, 1, 1])\n",
    "\n",
    "def un_normalize(x, mean, std):\n",
    "    if x.ndim == 3:\n",
    "        mean = mean[0]\n",
    "        std = std[0]\n",
    "        \n",
    "    x = x * std + mean\n",
    "    return (x - x.min())/(x.max() - x.min())\n",
    "\n",
    "un_normalize = partial(un_normalize, mean=_mean, std=_std)\n"
   ]
  },
  {
   "cell_type": "code",
   "execution_count": 10,
   "id": "ab2fdf51",
   "metadata": {},
   "outputs": [],
   "source": [
    "model.cuda(gpu)\n",
    "model.eval()\n",
    "model2.cuda(gpu2)\n",
    "model2.eval()\n",
    "classes = [\"airplane\", \"automobile\", \"bird\", \"cat\", \"deer\", \"dog\", \"frog\", \"horse\", \"ship\", \"truck\"]"
   ]
  },
  {
   "cell_type": "code",
   "execution_count": 11,
   "id": "ce6bd736",
   "metadata": {},
   "outputs": [],
   "source": [
    "def compute_features(model, gpu):\n",
    "    train_imgs = []\n",
    "    train_avg_features = []\n",
    "    train_gt_targets = []\n",
    "    model.cuda(gpu)\n",
    "    for img, targ in tqdm(train_loader):\n",
    "        _ = model(img.cuda(gpu))\n",
    "        train_imgs.append(img)\n",
    "        output = model.encoder.avg_outputs.detach().cpu().numpy()\n",
    "        train_avg_features.append(output)\n",
    "        train_gt_targets.append(targ.detach().cpu().numpy().reshape(-1, 1))\n",
    "\n",
    "    train_imgs = torch.vstack(train_imgs)\n",
    "    train_avg_features = np.vstack(train_avg_features)\n",
    "    train_gt_targets = np.vstack(train_gt_targets)\n",
    "    return train_imgs, train_avg_features, train_gt_targets"
   ]
  },
  {
   "cell_type": "code",
   "execution_count": 12,
   "id": "36642688",
   "metadata": {},
   "outputs": [
    {
     "name": "stderr",
     "output_type": "stream",
     "text": [
      "  0%|          | 1/1563 [00:00<21:30,  1.21it/s]"
     ]
    },
    {
     "name": "stdout",
     "output_type": "stream",
     "text": [
      "Using Avgpool as Decoder Input\n",
      "No Skip Connect\n"
     ]
    },
    {
     "name": "stderr",
     "output_type": "stream",
     "text": [
      "100%|██████████| 1563/1563 [01:35<00:00, 16.32it/s]\n"
     ]
    },
    {
     "name": "stdout",
     "output_type": "stream",
     "text": [
      "train_feats (50000, 2048, 1, 1), train_targs (50000, 1)\n"
     ]
    }
   ],
   "source": [
    "train_imgs, train_avg_features, train_gt_targets = compute_features(model, gpu)\n",
    "print(f\"train_feats {train_avg_features.shape}, train_targs {train_gt_targets.shape}\")"
   ]
  },
  {
   "cell_type": "code",
   "execution_count": 13,
   "id": "df2dfe3a",
   "metadata": {},
   "outputs": [],
   "source": [
    "perform_clustering = False\n",
    "im2cluster_fn = './cache/im2cluster.pickle'\n",
    "x = train_avg_features\n",
    "num_cluster = 2560\n",
    "seed = 3"
   ]
  },
  {
   "cell_type": "code",
   "execution_count": 103,
   "id": "6a37fbb9",
   "metadata": {},
   "outputs": [],
   "source": [
    "def save_pickle(file, fn):\n",
    "    with open(fn, 'wb') as f:\n",
    "        pickle.dump(file, f, protocol=pickle.HIGHEST_PROTOCOL)"
   ]
  },
  {
   "cell_type": "code",
   "execution_count": 14,
   "id": "8c0a65e3",
   "metadata": {},
   "outputs": [],
   "source": [
    "import faiss\n",
    "\n",
    "if perform_clustering:\n",
    "    d = x.shape[1]\n",
    "    k = int(num_cluster)\n",
    "    clus = faiss.Clustering(d, k)\n",
    "    clus.verbose = True\n",
    "    clus.niter = 20\n",
    "    clus.nredo = 5\n",
    "    clus.seed = seed\n",
    "    clus.max_points_per_centroid = 1000\n",
    "    clus.min_points_per_centroid = 10\n",
    "\n",
    "    index = faiss.IndexFlatL2(d)   \n",
    "    clus.train(x, index)   \n",
    "\n",
    "    D, I = index.search(x, 1) # for each sample, find cluster distance and assignments\n",
    "    im2cluster = [int(n[0]) for n in I]\n",
    "    with open(im2cluster_fn, 'wb') as f:\n",
    "        pickle.dump(im2cluster, f, protocol=pickle.HIGHEST_PROTOCOL)"
   ]
  },
  {
   "cell_type": "code",
   "execution_count": null,
   "id": "8e8615f7",
   "metadata": {},
   "outputs": [],
   "source": [
    "train_avg_features"
   ]
  },
  {
   "cell_type": "code",
   "execution_count": 15,
   "id": "240c89f1",
   "metadata": {},
   "outputs": [],
   "source": [
    "if os.path.exists(im2cluster_fn):\n",
    "    with open(im2cluster_fn, 'rb') as f:\n",
    "        im2cluster = pickle.load(f)"
   ]
  },
  {
   "cell_type": "code",
   "execution_count": 16,
   "id": "b940367d",
   "metadata": {},
   "outputs": [],
   "source": [
    "gt_per_clus = [[] for i in range(num_cluster)]\n",
    "for i, clus in enumerate(im2cluster):\n",
    "    gt_per_clus[clus].append(int(train_gt_targets[i]))\n",
    "    "
   ]
  },
  {
   "cell_type": "code",
   "execution_count": 87,
   "id": "d61fa238",
   "metadata": {},
   "outputs": [],
   "source": [
    "def forward(inp, model, gpu):\n",
    "    model.cuda(gpu)\n",
    "    inp = inp.cuda(gpu)\n",
    "    out = model(inp)\n",
    "    return out"
   ]
  },
  {
   "cell_type": "code",
   "execution_count": 88,
   "id": "2c174aed",
   "metadata": {},
   "outputs": [],
   "source": [
    "from collections import Counter, OrderedDict\n",
    "#cluster nums = 45, 58, 102, 200, 203\n",
    "im2cluster = np.array(im2cluster)\n",
    "#target = targ.detach().cpu().numpy()"
   ]
  },
  {
   "cell_type": "code",
   "execution_count": 140,
   "id": "d310353e",
   "metadata": {
    "scrolled": false
   },
   "outputs": [],
   "source": [
    "from PIL import Image\n",
    "import os\n",
    "\n",
    "_args = [(model, gpu, \"no_skip_connect\"), (model2, gpu2, \"skip_connect\")]\n",
    "\n",
    "\n",
    "def combo_images(imgs_fns, clus_num):\n",
    "    images = [Image.open(x) for x in imgs_fns]\n",
    "    widths, heights = zip(*(i.size for i in images))\n",
    "\n",
    "    total_width = sum(widths)\n",
    "    max_height = max(heights)\n",
    "\n",
    "    new_im = Image.new('RGB', (total_width, max_height))\n",
    "\n",
    "    x_offset = 0\n",
    "    for im in images:\n",
    "        new_im.paste(im, (x_offset,0))\n",
    "        x_offset += im.size[0]\n",
    "\n",
    "    new_im.save(f'cluster_{clus_num}.jpg')\n",
    "    for fn in imgs_fn:\n",
    "        os.remove(fn)\n",
    "    \n",
    "def plot_model(clus_num, _args=_args):\n",
    "    clus_idx = np.where(im2cluster==clus_num)[0]\n",
    "    imgs_fns = []\n",
    "    for model, gpu, _type in _args:   \n",
    "        imgs = train_imgs[clus_idx]\n",
    "        num_imgs = len(gt_per_clus[clus_num])\n",
    "        ncols = 4\n",
    "        nrows = num_imgs // ncols\n",
    "        max_num_imgs = len(imgs)\n",
    "        \n",
    "        out = forward(imgs, model, gpu)\n",
    "        out = un_normalize(out.detach().cpu().numpy())\n",
    "        print(f\"inp {imgs.shape}, out {out.shape}\")\n",
    "        fig, ax = plt.subplots(nrows=nrows, ncols=ncols)\n",
    "        fig.set_figheight(20)\n",
    "        fig.set_figwidth(20)\n",
    "        i = 1\n",
    "        fig.suptitle(f\"{_type}\")\n",
    "        for row in ax:\n",
    "            for col in row:\n",
    "                col.set_xticks([])\n",
    "                col.set_yticks([])\n",
    "                if i == max_num_imgs:\n",
    "                    break\n",
    "                col.imshow(out[i].transpose(1,2,0))\n",
    "                col.set_title(f\"gt class: {classes[int(train_gt_targets[clus_idx][i])]}\")\n",
    "                i += 1\n",
    "        fn = f'cache/cluster_{_type}_{clus_num}.jpg'\n",
    "        imgs_fns.append(fn)\n",
    "        fig.savefig(fn)\n",
    "    combo_images(imgs_fns, clus_num)"
   ]
  },
  {
   "cell_type": "code",
   "execution_count": null,
   "id": "d1b0c8d8",
   "metadata": {
    "scrolled": true
   },
   "outputs": [
    {
     "name": "stdout",
     "output_type": "stream",
     "text": [
      "inp torch.Size([24, 3, 224, 224]), out (24, 3, 224, 224)\n",
      "inp torch.Size([24, 3, 224, 224]), out (24, 3, 224, 224)\n"
     ]
    },
    {
     "ename": "NameError",
     "evalue": "name 'imgs_fn' is not defined",
     "output_type": "error",
     "traceback": [
      "\u001b[0;31m---------------------------------------------------------------------------\u001b[0m",
      "\u001b[0;31mNameError\u001b[0m                                 Traceback (most recent call last)",
      "\u001b[0;32m<ipython-input-141-393f3000af86>\u001b[0m in \u001b[0;36m<module>\u001b[0;34m\u001b[0m\n\u001b[1;32m      1\u001b[0m \u001b[0mclus_num\u001b[0m \u001b[0;34m=\u001b[0m \u001b[0;36m200\u001b[0m\u001b[0;34m\u001b[0m\u001b[0;34m\u001b[0m\u001b[0m\n\u001b[0;32m----> 2\u001b[0;31m \u001b[0mplot_model\u001b[0m\u001b[0;34m(\u001b[0m\u001b[0mclus_num\u001b[0m\u001b[0;34m)\u001b[0m\u001b[0;34m\u001b[0m\u001b[0;34m\u001b[0m\u001b[0m\n\u001b[0m",
      "\u001b[0;32m<ipython-input-140-cf09a40b314e>\u001b[0m in \u001b[0;36mplot_model\u001b[0;34m(clus_num, _args)\u001b[0m\n\u001b[1;32m     53\u001b[0m         \u001b[0mimgs_fns\u001b[0m\u001b[0;34m.\u001b[0m\u001b[0mappend\u001b[0m\u001b[0;34m(\u001b[0m\u001b[0mfn\u001b[0m\u001b[0;34m)\u001b[0m\u001b[0;34m\u001b[0m\u001b[0;34m\u001b[0m\u001b[0m\n\u001b[1;32m     54\u001b[0m         \u001b[0mfig\u001b[0m\u001b[0;34m.\u001b[0m\u001b[0msavefig\u001b[0m\u001b[0;34m(\u001b[0m\u001b[0mfn\u001b[0m\u001b[0;34m)\u001b[0m\u001b[0;34m\u001b[0m\u001b[0;34m\u001b[0m\u001b[0m\n\u001b[0;32m---> 55\u001b[0;31m     \u001b[0mcombo_images\u001b[0m\u001b[0;34m(\u001b[0m\u001b[0mimgs_fns\u001b[0m\u001b[0;34m,\u001b[0m \u001b[0mclus_num\u001b[0m\u001b[0;34m)\u001b[0m\u001b[0;34m\u001b[0m\u001b[0;34m\u001b[0m\u001b[0m\n\u001b[0m",
      "\u001b[0;32m<ipython-input-140-cf09a40b314e>\u001b[0m in \u001b[0;36mcombo_images\u001b[0;34m(imgs_fns, clus_num)\u001b[0m\n\u001b[1;32m     20\u001b[0m \u001b[0;34m\u001b[0m\u001b[0m\n\u001b[1;32m     21\u001b[0m     \u001b[0mnew_im\u001b[0m\u001b[0;34m.\u001b[0m\u001b[0msave\u001b[0m\u001b[0;34m(\u001b[0m\u001b[0;34mf'cluster_{clus_num}.jpg'\u001b[0m\u001b[0;34m)\u001b[0m\u001b[0;34m\u001b[0m\u001b[0;34m\u001b[0m\u001b[0m\n\u001b[0;32m---> 22\u001b[0;31m     \u001b[0;32mfor\u001b[0m \u001b[0mfn\u001b[0m \u001b[0;32min\u001b[0m \u001b[0mimgs_fn\u001b[0m\u001b[0;34m:\u001b[0m\u001b[0;34m\u001b[0m\u001b[0;34m\u001b[0m\u001b[0m\n\u001b[0m\u001b[1;32m     23\u001b[0m         \u001b[0mos\u001b[0m\u001b[0;34m.\u001b[0m\u001b[0mremove\u001b[0m\u001b[0;34m(\u001b[0m\u001b[0mfn\u001b[0m\u001b[0;34m)\u001b[0m\u001b[0;34m\u001b[0m\u001b[0;34m\u001b[0m\u001b[0m\n\u001b[1;32m     24\u001b[0m \u001b[0;34m\u001b[0m\u001b[0m\n",
      "\u001b[0;31mNameError\u001b[0m: name 'imgs_fn' is not defined"
     ]
    }
   ],
   "source": [
    "clus_num = 200\n",
    "plot_model(clus_num)"
   ]
  },
  {
   "cell_type": "markdown",
   "id": "aeb88de0",
   "metadata": {},
   "source": [
    "## visualize codes"
   ]
  },
  {
   "cell_type": "code",
   "execution_count": null,
   "id": "da9e333a",
   "metadata": {},
   "outputs": [],
   "source": []
  },
  {
   "cell_type": "code",
   "execution_count": 105,
   "id": "e6968715",
   "metadata": {},
   "outputs": [],
   "source": [
    "save_pickle(train_avg_features, \"./cache/train_avg_features.pkl\")\n",
    "save_pickle(gt_per_clus, \"./cache/gt_per_clus.pkl\")"
   ]
  },
  {
   "cell_type": "code",
   "execution_count": 107,
   "id": "c3ddcf4b",
   "metadata": {},
   "outputs": [
    {
     "data": {
      "text/plain": [
       "array([ 1617,  2487,  2934,  3753,  4743,  5648,  7737, 12251, 13425,\n",
       "       14991, 20100, 24376, 24990, 26038, 27310, 28841, 29477, 38371,\n",
       "       41447, 41773, 44442, 44659, 44690, 46499])"
      ]
     },
     "execution_count": 107,
     "metadata": {},
     "output_type": "execute_result"
    }
   ],
   "source": [
    "clus_num = 200\n",
    "clus_idx = np.where(im2cluster==clus_num)[0]\n",
    "clus_idx"
   ]
  },
  {
   "cell_type": "code",
   "execution_count": 108,
   "id": "c77db9d3",
   "metadata": {},
   "outputs": [
    {
     "data": {
      "text/plain": [
       "torch.Size([24, 2048, 1, 1])"
      ]
     },
     "execution_count": 108,
     "metadata": {},
     "output_type": "execute_result"
    }
   ],
   "source": [
    "clus_avg_pool_feats = train_avg_features[clus_idx]\n",
    "clus_avg_pool_feats = torch.from_numpy(clus_avg_pool_feats).to(gpu)\n",
    "clus_avg_pool_feats.shape"
   ]
  },
  {
   "cell_type": "code",
   "execution_count": 109,
   "id": "6730819f",
   "metadata": {
    "scrolled": true
   },
   "outputs": [
    {
     "data": {
      "text/plain": [
       "(24, 3, 224, 224)"
      ]
     },
     "execution_count": 109,
     "metadata": {},
     "output_type": "execute_result"
    }
   ],
   "source": [
    "clus_output = model(clus_avg_pool_feats, decoder_input=True)\n",
    "clus_output = un_normalize(clus_output.detach().cpu().numpy())\n",
    "clus_output.shape"
   ]
  },
  {
   "cell_type": "code",
   "execution_count": 113,
   "id": "6558e0b0",
   "metadata": {},
   "outputs": [
    {
     "data": {
      "text/plain": [
       "<matplotlib.image.AxesImage at 0x7f9a31892970>"
      ]
     },
     "execution_count": 113,
     "metadata": {},
     "output_type": "execute_result"
    },
    {
     "data": {
      "image/png": "[encoded data removed]",
      "text/plain": [
       "<Figure size 432x288 with 1 Axes>"
      ]
     },
     "metadata": {
      "needs_background": "light"
     },
     "output_type": "display_data"
    }
   ],
   "source": [
    "i = 4\n",
    "plt.imshow(clus_output[i].transpose(1,2,0))"
   ]
  },
  {
   "cell_type": "code",
   "execution_count": 73,
   "id": "b2860a2d",
   "metadata": {},
   "outputs": [
    {
     "data": {
      "text/plain": [
       "(31, 3, 224, 224)"
      ]
     },
     "execution_count": 73,
     "metadata": {},
     "output_type": "execute_result"
    }
   ],
   "source": [
    "clus_output2 = model(train_imgs[clus_idx].cuda(gpu), decoder_input=False)\n",
    "clus_output2 = un_normalize(clus_output2.detach().cpu().numpy())\n",
    "clus_output2.shape"
   ]
  },
  {
   "cell_type": "code",
   "execution_count": 74,
   "id": "5866002b",
   "metadata": {},
   "outputs": [
    {
     "data": {
      "text/plain": [
       "<matplotlib.image.AxesImage at 0x7f9a36415c70>"
      ]
     },
     "execution_count": 74,
     "metadata": {},
     "output_type": "execute_result"
    },
    {
     "data": {
      "image/png": "[encoded data removed]",
      "text/plain": [
       "<Figure size 432x288 with 1 Axes>"
      ]
     },
     "metadata": {
      "needs_background": "light"
     },
     "output_type": "display_data"
    }
   ],
   "source": [
    "i = 2\n",
    "plt.imshow(clus_output2[i].transpose(1,2,0))"
   ]
  },
  {
   "cell_type": "code",
   "execution_count": null,
   "id": "66e8ceea",
   "metadata": {},
   "outputs": [],
   "source": []
  },
  {
   "cell_type": "code",
   "execution_count": null,
   "id": "d468ebfb",
   "metadata": {},
   "outputs": [],
   "source": []
  },
  {
   "cell_type": "code",
   "execution_count": null,
   "id": "fbcca24b",
   "metadata": {},
   "outputs": [],
   "source": []
  },
  {
   "cell_type": "code",
   "execution_count": null,
   "id": "01bb175a",
   "metadata": {},
   "outputs": [],
   "source": []
  },
  {
   "cell_type": "code",
   "execution_count": null,
   "id": "77dda655",
   "metadata": {},
   "outputs": [],
   "source": []
  },
  {
   "cell_type": "code",
   "execution_count": null,
   "id": "7099a1bd",
   "metadata": {
    "scrolled": true
   },
   "outputs": [],
   "source": [
    "count_per_clus = OrderedDict(sorted(Counter(im2cluster).items()))"
   ]
  },
  {
   "cell_type": "code",
   "execution_count": null,
   "id": "1e722d8a",
   "metadata": {},
   "outputs": [],
   "source": [
    "majority_percent_per_clus = []\n",
    "majority_class = []\n",
    "pure_clusters = []\n",
    "impure_clusters = []\n",
    "\n",
    "for i,v in enumerate(gt_per_clus):\n",
    "    total_count = len(v)\n",
    "    major_class, majority_count = Counter(v).most_common()[0]\n",
    "    majority_class.append(classes[major_class])\n",
    "    majority_percent = majority_count/total_count * 100\n",
    "    if majority_percent == 100.0:\n",
    "        pure_clusters.append(classes[major_class])\n",
    "    else:\n",
    "        impure_clusters.append((classes[major_class], majority_percent))\n",
    "    majority_percent_per_clus.append(majority_percent)"
   ]
  },
  {
   "cell_type": "code",
   "execution_count": null,
   "id": "b438f1f2",
   "metadata": {},
   "outputs": [],
   "source": [
    "count_per_major_class = Counter(majority_class)\n",
    "count_p_keys, count_p_values = zip(*OrderedDict(sorted(count_per_major_class.items())).items())\n",
    "fig = plt.figure(figsize=(10,6))\n",
    "y_pos = np.arange(len(count_p_keys))\n",
    "plt.bar(y_pos, count_p_values)\n",
    "plt.xticks(y_pos, count_p_keys)\n",
    "plt.ylabel('Count')\n",
    "plt.title('Cluster Count per Class')\n",
    "fig.savefig(f'cache/Cluster_count_per_class.jpg')"
   ]
  },
  {
   "cell_type": "code",
   "execution_count": null,
   "id": "208ca379",
   "metadata": {},
   "outputs": [],
   "source": [
    "c_pure_clusters = Counter(pure_clusters)\n",
    "c_pure_clusters = {k: v/count_per_major_class[k]*100 for k, v in c_pure_clusters.items()}\n",
    "pc_keys, pc_values = zip(*OrderedDict(sorted(c_pure_clusters.items())).items())\n",
    "fig = plt.figure(figsize=(10,6))\n",
    "y_pos = np.arange(len(pc_keys))\n",
    "plt.bar(y_pos, pc_values)\n",
    "plt.xticks(y_pos, pc_keys)\n",
    "plt.ylabel('Percent')\n",
    "plt.title('Percentage of each Class that have Pure Clusters')\n",
    "fig.savefig(f'cache/pure_clusters.jpg')"
   ]
  },
  {
   "cell_type": "code",
   "execution_count": null,
   "id": "cd459382",
   "metadata": {},
   "outputs": [],
   "source": [
    "impure_clus_df = pd.DataFrame(impure_clusters).rename(columns={0:\"class\", 1:\"purity\"})\n",
    "c_impure_clusters = Counter(impure_clus_df[impure_clus_df.purity < 50][\"class\"])\n",
    "c_impure_clusters = {k: v/count_per_major_class[k]*100 for k, v in c_impure_clusters.items()}\n",
    "ipc_keys, ipc_values = zip(*OrderedDict(sorted(c_impure_clusters.items())).items())\n",
    "fig = plt.figure(figsize=(10,6))\n",
    "y_pos = np.arange(len(pc_keys))\n",
    "plt.bar(y_pos, ipc_values)\n",
    "plt.xticks(y_pos, ipc_keys)\n",
    "plt.ylabel('Percent')\n",
    "plt.title('Percentage of each Class with Clusters of Purity less than 50%')\n",
    "fig.savefig(f'cache/impure_50_clusters.jpg')"
   ]
  },
  {
   "cell_type": "code",
   "execution_count": null,
   "id": "68500f0f",
   "metadata": {},
   "outputs": [],
   "source": [
    "impure_clus_df = pd.DataFrame(impure_clusters).rename(columns={0:\"class\", 1:\"purity\"})\n",
    "c_impure_clusters = Counter(impure_clus_df[impure_clus_df.purity >= 50][\"class\"])\n",
    "c_impure_clusters = {k: v/count_per_major_class[k]*100 for k, v in c_impure_clusters.items()}\n",
    "ipc_keys, ipc_values = zip(*OrderedDict(sorted(c_impure_clusters.items())).items())\n",
    "fig = plt.figure(figsize=(10,6))\n",
    "y_pos = np.arange(len(pc_keys))\n",
    "plt.bar(y_pos, ipc_values)\n",
    "plt.xticks(y_pos, ipc_keys)\n",
    "plt.ylabel('Percent')\n",
    "plt.title('Percentage of each Class with Clusters of Purity between 50% and 99.99%')\n",
    "fig.savefig(f'cache/impure_above50_clusters.jpg')"
   ]
  },
  {
   "cell_type": "code",
   "execution_count": null,
   "id": "c5ad1f73",
   "metadata": {},
   "outputs": [],
   "source": []
  }
 ],
 "metadata": {
  "kernelspec": {
   "display_name": "prototypical-env",
   "language": "python",
   "name": "prototypical-env"
  },
  "language_info": {
   "codemirror_mode": {
    "name": "ipython",
    "version": 3
   },
   "file_extension": ".py",
   "mimetype": "text/x-python",
   "name": "python",
   "nbconvert_exporter": "python",
   "pygments_lexer": "ipython3",
   "version": "3.8.10"
  }
 },
 "nbformat": 4,
 "nbformat_minor": 5
}
