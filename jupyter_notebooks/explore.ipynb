{
 "cells": [
  {
   "cell_type": "code",
   "execution_count": 1,
   "metadata": {},
   "outputs": [],
   "source": [
    "from pathlib import Path\n",
    "from matplotlib import pyplot as plt\n",
    "from collections import Counter\n",
    "import pandas as pd\n",
    "import numpy as np\n",
    "import os\n",
    "import seaborn as sns\n",
    "import torch\n",
    "import pickle\n",
    "pd.set_option('display.max_rows', 1000)\n",
    "import pickle\n",
    "import json\n",
    "from torchvision.datasets import CIFAR100"
   ]
  },
  {
   "cell_type": "code",
   "execution_count": 2,
   "metadata": {
    "scrolled": true
   },
   "outputs": [
    {
     "data": {
      "text/plain": [
       "['CIFAR10_key_avg_pool_id_train.npy',\n",
       " 'CIFAR10_key_avg_pool_id_test.npy',\n",
       " 'CIFAR10_key_avg_pool_id_train_targ.npy',\n",
       " 'CIFAR10_key_avg_pool_id_test_targ.npy',\n",
       " 'CIFAR100_key_avg_pool_ood_train.npy',\n",
       " 'CIFAR100_key_avg_pool_ood_test.npy',\n",
       " 'SVHN_key_avg_pool_ood_train.npy',\n",
       " 'SVHN_key_avg_pool_ood_test.npy',\n",
       " 'LSUNResize_key_avg_pool_ood_train.npy',\n",
       " 'LSUNResize_key_avg_pool_ood_test.npy',\n",
       " 'exp_202_resnet18_acc_data.pickle',\n",
       " 'exp_202_resnet18_all_data.pickle',\n",
       " 'CIFAR10_key_fc_id_train.npy',\n",
       " 'CIFAR10_key_fc_id_test.npy',\n",
       " 'CIFAR10_key_fc_id_train_targ.npy',\n",
       " 'CIFAR10_key_fc_id_test_targ.npy',\n",
       " 'LSUNResize_key_fc_ood_train.npy',\n",
       " 'LSUNResize_key_fc_ood_test.npy',\n",
       " 'CIFAR100_key_fc_ood_train.npy',\n",
       " 'CIFAR100_key_fc_ood_test.npy',\n",
       " 'mal_vs_cos.png',\n",
       " 'mal_vs_cos_covfixed.png',\n",
       " 'com_pca.png',\n",
       " 'finetuned0.png',\n",
       " 'finetuned1.png',\n",
       " 'single_ood_results.json',\n",
       " 'ens_ood_results.json',\n",
       " 'new_auroc_calculator.py',\n",
       " 'SVHN_key_fc_ood_train.npy',\n",
       " 'SVHN_key_fc_ood_test.npy',\n",
       " 'Imagenet30_key_avg_pool_id_train.npy',\n",
       " 'Imagenet30_key_avg_pool_id_test.npy',\n",
       " 'Imagenet30_key_avg_pool_id_train_targ.npy',\n",
       " 'Imagenet30_key_avg_pool_id_test_targ.npy',\n",
       " 'CUB_key_avg_pool_ood_train.npy',\n",
       " 'CUB_key_avg_pool_ood_test.npy',\n",
       " 'cluster_eval_res.pkl']"
      ]
     },
     "execution_count": 2,
     "metadata": {},
     "output_type": "execute_result"
    }
   ],
   "source": [
    "os.listdir(\"../cache/\")"
   ]
  },
  {
   "cell_type": "code",
   "execution_count": 3,
   "metadata": {},
   "outputs": [],
   "source": [
    "fn = \"/data/temiloluwa.adeoti/fourth_experiments/CIFAR10_clus_768_neg_256/exp_1/checkpoint_199_results/finetune/key_ckpt_199_mn_2_lp_10/single_ood_results.json\"\n",
    "ds = json.load(open(fn, \"r\"))"
   ]
  },
  {
   "cell_type": "code",
   "execution_count": 4,
   "metadata": {},
   "outputs": [
    {
     "data": {
      "text/plain": [
       "dict_keys(['query_ckpt_199_mn_4_lp_10/checkpoint_0600.pth.tar', 'key_ckpt_199_mn_2_lp_10/resnet18_best.pth', 'key_ckpt_199_mn_2_lp_10/checkpoint_0600.pth.tar'])"
      ]
     },
     "execution_count": 4,
     "metadata": {},
     "output_type": "execute_result"
    }
   ],
   "source": [
    "ds.keys()"
   ]
  },
  {
   "cell_type": "code",
   "execution_count": 5,
   "metadata": {},
   "outputs": [],
   "source": [
    "df = pd.DataFrame(ds['key_ckpt_199_mn_2_lp_10/checkpoint_0600.pth.tar'])\n",
    "df['auroc'] = df['auroc'] * 100"
   ]
  },
  {
   "cell_type": "code",
   "execution_count": 6,
   "metadata": {},
   "outputs": [],
   "source": [
    "oods = [\"CIFAR100\", \"SVHN\", \"LSUNResize\"]"
   ]
  },
  {
   "cell_type": "code",
   "execution_count": 7,
   "metadata": {},
   "outputs": [
    {
     "data": {
      "text/html": [
       "<div>\n",
       "<style scoped>\n",
       "    .dataframe tbody tr th:only-of-type {\n",
       "        vertical-align: middle;\n",
       "    }\n",
       "\n",
       "    .dataframe tbody tr th {\n",
       "        vertical-align: top;\n",
       "    }\n",
       "\n",
       "    .dataframe thead th {\n",
       "        text-align: right;\n",
       "    }\n",
       "</style>\n",
       "<table border=\"1\" class=\"dataframe\">\n",
       "  <thead>\n",
       "    <tr style=\"text-align: right;\">\n",
       "      <th></th>\n",
       "      <th>ood</th>\n",
       "      <th>temperature</th>\n",
       "      <th>auroc</th>\n",
       "    </tr>\n",
       "  </thead>\n",
       "  <tbody>\n",
       "    <tr>\n",
       "      <th>0</th>\n",
       "      <td>CIFAR100</td>\n",
       "      <td>10</td>\n",
       "      <td>84.5</td>\n",
       "    </tr>\n",
       "    <tr>\n",
       "      <th>1</th>\n",
       "      <td>SVHN</td>\n",
       "      <td>50</td>\n",
       "      <td>92.4</td>\n",
       "    </tr>\n",
       "    <tr>\n",
       "      <th>2</th>\n",
       "      <td>LSUNResize</td>\n",
       "      <td>100</td>\n",
       "      <td>90.9</td>\n",
       "    </tr>\n",
       "  </tbody>\n",
       "</table>\n",
       "</div>"
      ],
      "text/plain": [
       "          ood  temperature  auroc\n",
       "0    CIFAR100           10   84.5\n",
       "1        SVHN           50   92.4\n",
       "2  LSUNResize          100   90.9"
      ]
     },
     "execution_count": 7,
     "metadata": {},
     "output_type": "execute_result"
    }
   ],
   "source": [
    "all_best_auroc = []\n",
    "for i in oods:\n",
    "    best_auroc = {}\n",
    "    _df = df[df.ood==i].sort_values(by=['auroc']).iloc[-1]\n",
    "    best_auroc['ood'] = i\n",
    "    best_auroc['temperature'] = _df['temperature']\n",
    "    best_auroc['auroc'] = _df['auroc']\n",
    "    all_best_auroc.append(best_auroc)\n",
    "all_best_auroc = pd.DataFrame(all_best_auroc)\n",
    "#all_best_auroc.to_excel(\"../cache/finetuned_best_auroc.xlsx\")\n",
    "all_best_auroc"
   ]
  },
  {
   "cell_type": "code",
   "execution_count": 8,
   "metadata": {},
   "outputs": [],
   "source": [
    "temperature = df[df.ood==\"CIFAR100\"].temperature.sort_values().values\n",
    "temperature = temperature.astype(\"str\")"
   ]
  },
  {
   "cell_type": "code",
   "execution_count": 9,
   "metadata": {},
   "outputs": [],
   "source": [
    "plot_data = []\n",
    "oods = [\"CIFAR100\", \"SVHN\", \"LSUNResize\"]\n",
    "for i in oods:\n",
    "    plot_data.append(df[df.ood==i].sort_values(by=\"temperature\").auroc.values)"
   ]
  },
  {
   "cell_type": "code",
   "execution_count": 10,
   "metadata": {},
   "outputs": [
    {
     "data": {
      "image/png": "[encoded data removed]",
      "text/plain": [
       "<Figure size 720x432 with 1 Axes>"
      ]
     },
     "metadata": {},
     "output_type": "display_data"
    }
   ],
   "source": [
    "sns.set_theme()\n",
    "df = pd.DataFrame(np.array(plot_data).T, columns=oods)\n",
    "fig = plt.figure(figsize=(10, 6))\n",
    "plt.plot(df)\n",
    "plt.xticks(np.arange(len(temperature)), temperature)\n",
    "plt.xlabel(\"Temperature\")\n",
    "plt.ylabel(\"AUROC\")\n",
    "plt.legend(oods, loc=\"lower right\")\n",
    "plt.savefig(\"../cache/ood_results_finetuned\")"
   ]
  },
  {
   "cell_type": "code",
   "execution_count": 11,
   "metadata": {},
   "outputs": [],
   "source": [
    "df = pd.DataFrame(ds['key_ckpt_199_mn_2_lp_10/resnet18_best.pth'])\n",
    "df['auroc'] = df['auroc'] * 100"
   ]
  },
  {
   "cell_type": "code",
   "execution_count": 12,
   "metadata": {},
   "outputs": [
    {
     "data": {
      "text/html": [
       "<div>\n",
       "<style scoped>\n",
       "    .dataframe tbody tr th:only-of-type {\n",
       "        vertical-align: middle;\n",
       "    }\n",
       "\n",
       "    .dataframe tbody tr th {\n",
       "        vertical-align: top;\n",
       "    }\n",
       "\n",
       "    .dataframe thead th {\n",
       "        text-align: right;\n",
       "    }\n",
       "</style>\n",
       "<table border=\"1\" class=\"dataframe\">\n",
       "  <thead>\n",
       "    <tr style=\"text-align: right;\">\n",
       "      <th></th>\n",
       "      <th>ood</th>\n",
       "      <th>temperature</th>\n",
       "      <th>auroc</th>\n",
       "    </tr>\n",
       "  </thead>\n",
       "  <tbody>\n",
       "    <tr>\n",
       "      <th>0</th>\n",
       "      <td>CIFAR100</td>\n",
       "      <td>5</td>\n",
       "      <td>85.0</td>\n",
       "    </tr>\n",
       "    <tr>\n",
       "      <th>1</th>\n",
       "      <td>SVHN</td>\n",
       "      <td>100</td>\n",
       "      <td>88.2</td>\n",
       "    </tr>\n",
       "    <tr>\n",
       "      <th>2</th>\n",
       "      <td>LSUNResize</td>\n",
       "      <td>100</td>\n",
       "      <td>90.1</td>\n",
       "    </tr>\n",
       "  </tbody>\n",
       "</table>\n",
       "</div>"
      ],
      "text/plain": [
       "          ood  temperature  auroc\n",
       "0    CIFAR100            5   85.0\n",
       "1        SVHN          100   88.2\n",
       "2  LSUNResize          100   90.1"
      ]
     },
     "execution_count": 12,
     "metadata": {},
     "output_type": "execute_result"
    }
   ],
   "source": [
    "all_best_auroc = []\n",
    "for i in oods:\n",
    "    best_auroc = {}\n",
    "    _df = df[df.ood==i].sort_values(by=['auroc']).iloc[-1]\n",
    "    best_auroc['ood'] = i\n",
    "    best_auroc['temperature'] = _df['temperature']\n",
    "    best_auroc['auroc'] = _df['auroc']\n",
    "    all_best_auroc.append(best_auroc)\n",
    "all_best_auroc = pd.DataFrame(all_best_auroc)\n",
    "all_best_auroc.to_excel(\"../cache/distilled_best_auroc.xlsx\")\n",
    "all_best_auroc"
   ]
  },
  {
   "cell_type": "code",
   "execution_count": null,
   "metadata": {},
   "outputs": [],
   "source": []
  },
  {
   "cell_type": "code",
   "execution_count": 13,
   "metadata": {},
   "outputs": [],
   "source": [
    "plot_data = []\n",
    "oods = [\"CIFAR100\", \"SVHN\", \"LSUNCrop\", \"LSUNResize\"]\n",
    "for i in oods:\n",
    "    plot_data.append(df[df.ood==i].sort_values(by=\"temperature\").auroc.values)"
   ]
  },
  {
   "cell_type": "code",
   "execution_count": 14,
   "metadata": {},
   "outputs": [
    {
     "data": {
      "image/png": "[encoded data removed]",
      "text/plain": [
       "<Figure size 720x432 with 1 Axes>"
      ]
     },
     "metadata": {},
     "output_type": "display_data"
    }
   ],
   "source": [
    "sns.set_theme()\n",
    "df = pd.DataFrame(np.array(plot_data).T, columns=oods)\n",
    "fig = plt.figure(figsize=(10, 6))\n",
    "plt.plot(df)\n",
    "plt.xticks(np.arange(len(temperature)), temperature)\n",
    "plt.xlabel(\"Temperature\")\n",
    "plt.ylabel(\"AUROC\")\n",
    "plt.legend(oods, loc=\"lower right\")\n",
    "plt.savefig(\"../cache/ood_results_distilled.jpg\")"
   ]
  },
  {
   "cell_type": "code",
   "execution_count": 15,
   "metadata": {
    "scrolled": true
   },
   "outputs": [
    {
     "ename": "FileNotFoundError",
     "evalue": "[Errno 2] No such file or directory: '/home2/temiloluwa.adeoti/contrastive_ood_detection/cache/odin_results.pickle.pickle'",
     "output_type": "error",
     "traceback": [
      "\u001b[0;31m---------------------------------------------------------------------------\u001b[0m",
      "\u001b[0;31mFileNotFoundError\u001b[0m                         Traceback (most recent call last)",
      "\u001b[0;32m<ipython-input-15-386c25e2870e>\u001b[0m in \u001b[0;36m<module>\u001b[0;34m\u001b[0m\n\u001b[0;32m----> 1\u001b[0;31m \u001b[0modin_ft\u001b[0m \u001b[0;34m=\u001b[0m \u001b[0mpd\u001b[0m\u001b[0;34m.\u001b[0m\u001b[0mDataFrame\u001b[0m\u001b[0;34m(\u001b[0m\u001b[0mpd\u001b[0m\u001b[0;34m.\u001b[0m\u001b[0mread_pickle\u001b[0m\u001b[0;34m(\u001b[0m\u001b[0;34mf'/home2/temiloluwa.adeoti/contrastive_ood_detection/cache/odin_results.pickle.pickle'\u001b[0m\u001b[0;34m)\u001b[0m\u001b[0;34m)\u001b[0m\u001b[0;34m\u001b[0m\u001b[0;34m\u001b[0m\u001b[0m\n\u001b[0m\u001b[1;32m      2\u001b[0m \u001b[0mdf\u001b[0m \u001b[0;34m=\u001b[0m \u001b[0mdf2\u001b[0m \u001b[0;34m=\u001b[0m \u001b[0modin_ft\u001b[0m\u001b[0;34m\u001b[0m\u001b[0;34m\u001b[0m\u001b[0m\n\u001b[1;32m      3\u001b[0m \u001b[0mdf\u001b[0m\u001b[0;34m[\u001b[0m\u001b[0;34m'auroc'\u001b[0m\u001b[0;34m]\u001b[0m \u001b[0;34m=\u001b[0m \u001b[0mdf\u001b[0m\u001b[0;34m[\u001b[0m\u001b[0;34m'auroc'\u001b[0m\u001b[0;34m]\u001b[0m \u001b[0;34m*\u001b[0m \u001b[0;36m100\u001b[0m\u001b[0;34m\u001b[0m\u001b[0;34m\u001b[0m\u001b[0m\n\u001b[1;32m      4\u001b[0m \u001b[0;34m\u001b[0m\u001b[0m\n\u001b[1;32m      5\u001b[0m \u001b[0mtemperature\u001b[0m \u001b[0;34m=\u001b[0m \u001b[0mdf\u001b[0m\u001b[0;34m[\u001b[0m\u001b[0mdf\u001b[0m\u001b[0;34m.\u001b[0m\u001b[0mood\u001b[0m\u001b[0;34m==\u001b[0m\u001b[0;34m\"CIFAR100\"\u001b[0m\u001b[0;34m]\u001b[0m\u001b[0;34m.\u001b[0m\u001b[0mtemperature\u001b[0m\u001b[0;34m.\u001b[0m\u001b[0msort_values\u001b[0m\u001b[0;34m(\u001b[0m\u001b[0;34m)\u001b[0m\u001b[0;34m.\u001b[0m\u001b[0mvalues\u001b[0m\u001b[0;34m\u001b[0m\u001b[0;34m\u001b[0m\u001b[0m\n",
      "\u001b[0;32m~/python-envs/prototypical-env/lib/python3.8/site-packages/pandas/io/pickle.py\u001b[0m in \u001b[0;36mread_pickle\u001b[0;34m(filepath_or_buffer, compression, storage_options)\u001b[0m\n\u001b[1;32m    183\u001b[0m     \"\"\"\n\u001b[1;32m    184\u001b[0m     \u001b[0mexcs_to_catch\u001b[0m \u001b[0;34m=\u001b[0m \u001b[0;34m(\u001b[0m\u001b[0mAttributeError\u001b[0m\u001b[0;34m,\u001b[0m \u001b[0mImportError\u001b[0m\u001b[0;34m,\u001b[0m \u001b[0mModuleNotFoundError\u001b[0m\u001b[0;34m,\u001b[0m \u001b[0mTypeError\u001b[0m\u001b[0;34m)\u001b[0m\u001b[0;34m\u001b[0m\u001b[0;34m\u001b[0m\u001b[0m\n\u001b[0;32m--> 185\u001b[0;31m     with get_handle(\n\u001b[0m\u001b[1;32m    186\u001b[0m         \u001b[0mfilepath_or_buffer\u001b[0m\u001b[0;34m,\u001b[0m\u001b[0;34m\u001b[0m\u001b[0;34m\u001b[0m\u001b[0m\n\u001b[1;32m    187\u001b[0m         \u001b[0;34m\"rb\"\u001b[0m\u001b[0;34m,\u001b[0m\u001b[0;34m\u001b[0m\u001b[0;34m\u001b[0m\u001b[0m\n",
      "\u001b[0;32m~/python-envs/prototypical-env/lib/python3.8/site-packages/pandas/io/common.py\u001b[0m in \u001b[0;36mget_handle\u001b[0;34m(path_or_buf, mode, encoding, compression, memory_map, is_text, errors, storage_options)\u001b[0m\n\u001b[1;32m    649\u001b[0m         \u001b[0;32melse\u001b[0m\u001b[0;34m:\u001b[0m\u001b[0;34m\u001b[0m\u001b[0;34m\u001b[0m\u001b[0m\n\u001b[1;32m    650\u001b[0m             \u001b[0;31m# Binary mode\u001b[0m\u001b[0;34m\u001b[0m\u001b[0;34m\u001b[0m\u001b[0;34m\u001b[0m\u001b[0m\n\u001b[0;32m--> 651\u001b[0;31m             \u001b[0mhandle\u001b[0m \u001b[0;34m=\u001b[0m \u001b[0mopen\u001b[0m\u001b[0;34m(\u001b[0m\u001b[0mhandle\u001b[0m\u001b[0;34m,\u001b[0m \u001b[0mioargs\u001b[0m\u001b[0;34m.\u001b[0m\u001b[0mmode\u001b[0m\u001b[0;34m)\u001b[0m\u001b[0;34m\u001b[0m\u001b[0;34m\u001b[0m\u001b[0m\n\u001b[0m\u001b[1;32m    652\u001b[0m         \u001b[0mhandles\u001b[0m\u001b[0;34m.\u001b[0m\u001b[0mappend\u001b[0m\u001b[0;34m(\u001b[0m\u001b[0mhandle\u001b[0m\u001b[0;34m)\u001b[0m\u001b[0;34m\u001b[0m\u001b[0;34m\u001b[0m\u001b[0m\n\u001b[1;32m    653\u001b[0m \u001b[0;34m\u001b[0m\u001b[0m\n",
      "\u001b[0;31mFileNotFoundError\u001b[0m: [Errno 2] No such file or directory: '/home2/temiloluwa.adeoti/contrastive_ood_detection/cache/odin_results.pickle.pickle'"
     ]
    }
   ],
   "source": [
    "odin_ft = pd.DataFrame(pd.read_pickle(f'/home2/temiloluwa.adeoti/contrastive_ood_detection/cache/odin_results.pickle.pickle'))\n",
    "df = df2 = odin_ft\n",
    "df['auroc'] = df['auroc'] * 100\n",
    "\n",
    "temperature = df[df.ood==\"CIFAR100\"].temperature.sort_values().values\n",
    "temperature = temperature.astype(\"str\")\n",
    "\n",
    "plot_data = []\n",
    "oods = [\"CIFAR100\", \"SVHN\", \"LSUNCrop\", \"LSUNResize\"]\n",
    "for i in oods:\n",
    "    plot_data.append(df[df.ood==i].sort_values(by=\"temperature\").auroc.values)"
   ]
  },
  {
   "cell_type": "code",
   "execution_count": 16,
   "metadata": {
    "scrolled": true
   },
   "outputs": [
    {
     "ename": "NameError",
     "evalue": "name 'odin_ft' is not defined",
     "output_type": "error",
     "traceback": [
      "\u001b[0;31m---------------------------------------------------------------------------\u001b[0m",
      "\u001b[0;31mNameError\u001b[0m                                 Traceback (most recent call last)",
      "\u001b[0;32m<ipython-input-16-735be9272e04>\u001b[0m in \u001b[0;36m<module>\u001b[0;34m\u001b[0m\n\u001b[0;32m----> 1\u001b[0;31m \u001b[0modin_ft\u001b[0m\u001b[0;34m\u001b[0m\u001b[0;34m\u001b[0m\u001b[0m\n\u001b[0m",
      "\u001b[0;31mNameError\u001b[0m: name 'odin_ft' is not defined"
     ]
    }
   ],
   "source": [
    "odin_ft"
   ]
  },
  {
   "cell_type": "code",
   "execution_count": 17,
   "metadata": {},
   "outputs": [
    {
     "data": {
      "image/png": "[encoded data removed]",
      "text/plain": [
       "<Figure size 720x432 with 1 Axes>"
      ]
     },
     "metadata": {},
     "output_type": "display_data"
    }
   ],
   "source": [
    "sns.set_theme()\n",
    "df = pd.DataFrame(np.array(plot_data).T, columns=oods)\n",
    "fig = plt.figure(figsize=(10, 6))\n",
    "plt.plot(df)\n",
    "plt.xticks(np.arange(len(temperature)), temperature)\n",
    "plt.xlabel(\"Temperature\")\n",
    "plt.ylabel(\"AUROC\")\n",
    "plt.legend(oods, loc=\"lower right\")\n",
    "plt.savefig(\"../cache/odin_ood_results_finetune.jpg\")"
   ]
  },
  {
   "cell_type": "code",
   "execution_count": 18,
   "metadata": {},
   "outputs": [
    {
     "ename": "NameError",
     "evalue": "name 'df2' is not defined",
     "output_type": "error",
     "traceback": [
      "\u001b[0;31m---------------------------------------------------------------------------\u001b[0m",
      "\u001b[0;31mNameError\u001b[0m                                 Traceback (most recent call last)",
      "\u001b[0;32m<ipython-input-18-17d608e81c2e>\u001b[0m in \u001b[0;36m<module>\u001b[0;34m\u001b[0m\n\u001b[1;32m      1\u001b[0m \u001b[0mall_best_auroc\u001b[0m \u001b[0;34m=\u001b[0m \u001b[0;34m[\u001b[0m\u001b[0;34m]\u001b[0m\u001b[0;34m\u001b[0m\u001b[0;34m\u001b[0m\u001b[0m\n\u001b[0;32m----> 2\u001b[0;31m \u001b[0mdf\u001b[0m \u001b[0;34m=\u001b[0m \u001b[0mdf2\u001b[0m\u001b[0;34m\u001b[0m\u001b[0;34m\u001b[0m\u001b[0m\n\u001b[0m\u001b[1;32m      3\u001b[0m \u001b[0;32mfor\u001b[0m \u001b[0mi\u001b[0m \u001b[0;32min\u001b[0m \u001b[0moods\u001b[0m\u001b[0;34m:\u001b[0m\u001b[0;34m\u001b[0m\u001b[0;34m\u001b[0m\u001b[0m\n\u001b[1;32m      4\u001b[0m     \u001b[0mbest_auroc\u001b[0m \u001b[0;34m=\u001b[0m \u001b[0;34m{\u001b[0m\u001b[0;34m}\u001b[0m\u001b[0;34m\u001b[0m\u001b[0;34m\u001b[0m\u001b[0m\n\u001b[1;32m      5\u001b[0m     \u001b[0m_df\u001b[0m \u001b[0;34m=\u001b[0m \u001b[0mdf\u001b[0m\u001b[0;34m[\u001b[0m\u001b[0mdf\u001b[0m\u001b[0;34m.\u001b[0m\u001b[0mood\u001b[0m\u001b[0;34m==\u001b[0m\u001b[0mi\u001b[0m\u001b[0;34m]\u001b[0m\u001b[0;34m.\u001b[0m\u001b[0msort_values\u001b[0m\u001b[0;34m(\u001b[0m\u001b[0mby\u001b[0m\u001b[0;34m=\u001b[0m\u001b[0;34m[\u001b[0m\u001b[0;34m'auroc'\u001b[0m\u001b[0;34m]\u001b[0m\u001b[0;34m)\u001b[0m\u001b[0;34m.\u001b[0m\u001b[0miloc\u001b[0m\u001b[0;34m[\u001b[0m\u001b[0;34m-\u001b[0m\u001b[0;36m1\u001b[0m\u001b[0;34m]\u001b[0m\u001b[0;34m\u001b[0m\u001b[0;34m\u001b[0m\u001b[0m\n",
      "\u001b[0;31mNameError\u001b[0m: name 'df2' is not defined"
     ]
    }
   ],
   "source": [
    "all_best_auroc = []\n",
    "df = df2\n",
    "for i in oods:\n",
    "    best_auroc = {}\n",
    "    _df = df[df.ood==i].sort_values(by=['auroc']).iloc[-1]\n",
    "    best_auroc['ood'] = i\n",
    "    best_auroc['temperature'] = _df['temperature']\n",
    "    best_auroc['auroc'] = _df['auroc']\n",
    "    all_best_auroc.append(best_auroc)\n",
    "all_best_auroc = pd.DataFrame(all_best_auroc)\n",
    "all_best_auroc.to_excel(\"../cache/odin_ood_results_finetune_best_auroc.xlsx\")\n",
    "all_best_auroc"
   ]
  },
  {
   "cell_type": "code",
   "execution_count": 19,
   "metadata": {},
   "outputs": [
    {
     "data": {
      "text/html": [
       "<div>\n",
       "<style scoped>\n",
       "    .dataframe tbody tr th:only-of-type {\n",
       "        vertical-align: middle;\n",
       "    }\n",
       "\n",
       "    .dataframe tbody tr th {\n",
       "        vertical-align: top;\n",
       "    }\n",
       "\n",
       "    .dataframe thead th {\n",
       "        text-align: right;\n",
       "    }\n",
       "</style>\n",
       "<table border=\"1\" class=\"dataframe\">\n",
       "  <thead>\n",
       "    <tr style=\"text-align: right;\">\n",
       "      <th></th>\n",
       "      <th>CIFAR100</th>\n",
       "      <th>SVHN</th>\n",
       "      <th>LSUNCrop</th>\n",
       "      <th>LSUNResize</th>\n",
       "    </tr>\n",
       "  </thead>\n",
       "  <tbody>\n",
       "    <tr>\n",
       "      <th>0</th>\n",
       "      <td>80.8</td>\n",
       "      <td>77.7</td>\n",
       "      <td>83.5</td>\n",
       "      <td>81.5</td>\n",
       "    </tr>\n",
       "    <tr>\n",
       "      <th>1</th>\n",
       "      <td>84.3</td>\n",
       "      <td>83.7</td>\n",
       "      <td>89.6</td>\n",
       "      <td>87.9</td>\n",
       "    </tr>\n",
       "    <tr>\n",
       "      <th>2</th>\n",
       "      <td>85.0</td>\n",
       "      <td>85.6</td>\n",
       "      <td>91.0</td>\n",
       "      <td>89.3</td>\n",
       "    </tr>\n",
       "    <tr>\n",
       "      <th>3</th>\n",
       "      <td>84.9</td>\n",
       "      <td>87.3</td>\n",
       "      <td>91.5</td>\n",
       "      <td>89.6</td>\n",
       "    </tr>\n",
       "    <tr>\n",
       "      <th>4</th>\n",
       "      <td>84.6</td>\n",
       "      <td>88.2</td>\n",
       "      <td>92.0</td>\n",
       "      <td>90.1</td>\n",
       "    </tr>\n",
       "  </tbody>\n",
       "</table>\n",
       "</div>"
      ],
      "text/plain": [
       "   CIFAR100  SVHN  LSUNCrop  LSUNResize\n",
       "0      80.8  77.7      83.5        81.5\n",
       "1      84.3  83.7      89.6        87.9\n",
       "2      85.0  85.6      91.0        89.3\n",
       "3      84.9  87.3      91.5        89.6\n",
       "4      84.6  88.2      92.0        90.1"
      ]
     },
     "execution_count": 19,
     "metadata": {},
     "output_type": "execute_result"
    }
   ],
   "source": [
    "df"
   ]
  },
  {
   "cell_type": "code",
   "execution_count": null,
   "metadata": {},
   "outputs": [],
   "source": []
  },
  {
   "cell_type": "code",
   "execution_count": null,
   "metadata": {},
   "outputs": [],
   "source": []
  },
  {
   "cell_type": "code",
   "execution_count": null,
   "metadata": {},
   "outputs": [],
   "source": []
  },
  {
   "cell_type": "code",
   "execution_count": 20,
   "metadata": {
    "scrolled": true
   },
   "outputs": [
    {
     "data": {
      "text/html": [
       "<div>\n",
       "<style scoped>\n",
       "    .dataframe tbody tr th:only-of-type {\n",
       "        vertical-align: middle;\n",
       "    }\n",
       "\n",
       "    .dataframe tbody tr th {\n",
       "        vertical-align: top;\n",
       "    }\n",
       "\n",
       "    .dataframe thead th {\n",
       "        text-align: right;\n",
       "    }\n",
       "</style>\n",
       "<table border=\"1\" class=\"dataframe\">\n",
       "  <thead>\n",
       "    <tr style=\"text-align: right;\">\n",
       "      <th></th>\n",
       "      <th>metric</th>\n",
       "      <th>pca components</th>\n",
       "      <th>clusters</th>\n",
       "      <th>auroc</th>\n",
       "      <th>tnr@tpr95</th>\n",
       "      <th>cluster_method</th>\n",
       "      <th>ood</th>\n",
       "      <th>idd</th>\n",
       "    </tr>\n",
       "  </thead>\n",
       "  <tbody>\n",
       "    <tr>\n",
       "      <th>0</th>\n",
       "      <td>mahalanobis</td>\n",
       "      <td>10</td>\n",
       "      <td>0</td>\n",
       "      <td>57.010614</td>\n",
       "      <td>5.27</td>\n",
       "      <td>kmeans</td>\n",
       "      <td>CIFAR100</td>\n",
       "      <td>CIFAR10</td>\n",
       "    </tr>\n",
       "    <tr>\n",
       "      <th>1</th>\n",
       "      <td>mahalanobis</td>\n",
       "      <td>10</td>\n",
       "      <td>30</td>\n",
       "      <td>68.638942</td>\n",
       "      <td>11.01</td>\n",
       "      <td>kmeans</td>\n",
       "      <td>CIFAR100</td>\n",
       "      <td>CIFAR10</td>\n",
       "    </tr>\n",
       "    <tr>\n",
       "      <th>2</th>\n",
       "      <td>mahalanobis</td>\n",
       "      <td>10</td>\n",
       "      <td>50</td>\n",
       "      <td>70.518760</td>\n",
       "      <td>12.70</td>\n",
       "      <td>kmeans</td>\n",
       "      <td>CIFAR100</td>\n",
       "      <td>CIFAR10</td>\n",
       "    </tr>\n",
       "    <tr>\n",
       "      <th>3</th>\n",
       "      <td>cosine</td>\n",
       "      <td>0</td>\n",
       "      <td>0</td>\n",
       "      <td>54.324849</td>\n",
       "      <td>5.34</td>\n",
       "      <td>kmeans</td>\n",
       "      <td>CIFAR100</td>\n",
       "      <td>CIFAR10</td>\n",
       "    </tr>\n",
       "    <tr>\n",
       "      <th>4</th>\n",
       "      <td>cosine</td>\n",
       "      <td>0</td>\n",
       "      <td>30</td>\n",
       "      <td>54.953799</td>\n",
       "      <td>4.74</td>\n",
       "      <td>kmeans</td>\n",
       "      <td>CIFAR100</td>\n",
       "      <td>CIFAR10</td>\n",
       "    </tr>\n",
       "    <tr>\n",
       "      <th>5</th>\n",
       "      <td>cosine</td>\n",
       "      <td>0</td>\n",
       "      <td>50</td>\n",
       "      <td>55.384749</td>\n",
       "      <td>6.35</td>\n",
       "      <td>kmeans</td>\n",
       "      <td>CIFAR100</td>\n",
       "      <td>CIFAR10</td>\n",
       "    </tr>\n",
       "    <tr>\n",
       "      <th>6</th>\n",
       "      <td>cosine</td>\n",
       "      <td>10</td>\n",
       "      <td>0</td>\n",
       "      <td>50.264521</td>\n",
       "      <td>3.62</td>\n",
       "      <td>kmeans</td>\n",
       "      <td>CIFAR100</td>\n",
       "      <td>CIFAR10</td>\n",
       "    </tr>\n",
       "    <tr>\n",
       "      <th>7</th>\n",
       "      <td>cosine</td>\n",
       "      <td>10</td>\n",
       "      <td>30</td>\n",
       "      <td>57.637842</td>\n",
       "      <td>8.92</td>\n",
       "      <td>kmeans</td>\n",
       "      <td>CIFAR100</td>\n",
       "      <td>CIFAR10</td>\n",
       "    </tr>\n",
       "    <tr>\n",
       "      <th>8</th>\n",
       "      <td>cosine</td>\n",
       "      <td>10</td>\n",
       "      <td>50</td>\n",
       "      <td>57.793358</td>\n",
       "      <td>8.75</td>\n",
       "      <td>kmeans</td>\n",
       "      <td>CIFAR100</td>\n",
       "      <td>CIFAR10</td>\n",
       "    </tr>\n",
       "    <tr>\n",
       "      <th>9</th>\n",
       "      <td>mahalanobis</td>\n",
       "      <td>10</td>\n",
       "      <td>0</td>\n",
       "      <td>54.763565</td>\n",
       "      <td>6.97</td>\n",
       "      <td>kmeans</td>\n",
       "      <td>SVHN</td>\n",
       "      <td>CIFAR10</td>\n",
       "    </tr>\n",
       "    <tr>\n",
       "      <th>10</th>\n",
       "      <td>mahalanobis</td>\n",
       "      <td>10</td>\n",
       "      <td>30</td>\n",
       "      <td>61.484335</td>\n",
       "      <td>7.21</td>\n",
       "      <td>kmeans</td>\n",
       "      <td>SVHN</td>\n",
       "      <td>CIFAR10</td>\n",
       "    </tr>\n",
       "    <tr>\n",
       "      <th>11</th>\n",
       "      <td>mahalanobis</td>\n",
       "      <td>10</td>\n",
       "      <td>50</td>\n",
       "      <td>61.290700</td>\n",
       "      <td>7.18</td>\n",
       "      <td>kmeans</td>\n",
       "      <td>SVHN</td>\n",
       "      <td>CIFAR10</td>\n",
       "    </tr>\n",
       "    <tr>\n",
       "      <th>12</th>\n",
       "      <td>cosine</td>\n",
       "      <td>0</td>\n",
       "      <td>0</td>\n",
       "      <td>63.499339</td>\n",
       "      <td>11.28</td>\n",
       "      <td>kmeans</td>\n",
       "      <td>SVHN</td>\n",
       "      <td>CIFAR10</td>\n",
       "    </tr>\n",
       "    <tr>\n",
       "      <th>13</th>\n",
       "      <td>cosine</td>\n",
       "      <td>0</td>\n",
       "      <td>30</td>\n",
       "      <td>68.754796</td>\n",
       "      <td>11.88</td>\n",
       "      <td>kmeans</td>\n",
       "      <td>SVHN</td>\n",
       "      <td>CIFAR10</td>\n",
       "    </tr>\n",
       "    <tr>\n",
       "      <th>14</th>\n",
       "      <td>cosine</td>\n",
       "      <td>0</td>\n",
       "      <td>50</td>\n",
       "      <td>65.277568</td>\n",
       "      <td>11.92</td>\n",
       "      <td>kmeans</td>\n",
       "      <td>SVHN</td>\n",
       "      <td>CIFAR10</td>\n",
       "    </tr>\n",
       "    <tr>\n",
       "      <th>15</th>\n",
       "      <td>cosine</td>\n",
       "      <td>10</td>\n",
       "      <td>0</td>\n",
       "      <td>48.085131</td>\n",
       "      <td>5.44</td>\n",
       "      <td>kmeans</td>\n",
       "      <td>SVHN</td>\n",
       "      <td>CIFAR10</td>\n",
       "    </tr>\n",
       "    <tr>\n",
       "      <th>16</th>\n",
       "      <td>cosine</td>\n",
       "      <td>10</td>\n",
       "      <td>30</td>\n",
       "      <td>50.335899</td>\n",
       "      <td>4.38</td>\n",
       "      <td>kmeans</td>\n",
       "      <td>SVHN</td>\n",
       "      <td>CIFAR10</td>\n",
       "    </tr>\n",
       "    <tr>\n",
       "      <th>17</th>\n",
       "      <td>cosine</td>\n",
       "      <td>10</td>\n",
       "      <td>50</td>\n",
       "      <td>51.130604</td>\n",
       "      <td>6.36</td>\n",
       "      <td>kmeans</td>\n",
       "      <td>SVHN</td>\n",
       "      <td>CIFAR10</td>\n",
       "    </tr>\n",
       "    <tr>\n",
       "      <th>18</th>\n",
       "      <td>mahalanobis</td>\n",
       "      <td>10</td>\n",
       "      <td>0</td>\n",
       "      <td>65.469231</td>\n",
       "      <td>5.64</td>\n",
       "      <td>kmeans</td>\n",
       "      <td>LSUNCrop</td>\n",
       "      <td>CIFAR10</td>\n",
       "    </tr>\n",
       "    <tr>\n",
       "      <th>19</th>\n",
       "      <td>mahalanobis</td>\n",
       "      <td>10</td>\n",
       "      <td>30</td>\n",
       "      <td>67.939858</td>\n",
       "      <td>5.01</td>\n",
       "      <td>kmeans</td>\n",
       "      <td>LSUNCrop</td>\n",
       "      <td>CIFAR10</td>\n",
       "    </tr>\n",
       "    <tr>\n",
       "      <th>20</th>\n",
       "      <td>mahalanobis</td>\n",
       "      <td>10</td>\n",
       "      <td>50</td>\n",
       "      <td>68.232909</td>\n",
       "      <td>6.85</td>\n",
       "      <td>kmeans</td>\n",
       "      <td>LSUNCrop</td>\n",
       "      <td>CIFAR10</td>\n",
       "    </tr>\n",
       "    <tr>\n",
       "      <th>21</th>\n",
       "      <td>cosine</td>\n",
       "      <td>0</td>\n",
       "      <td>0</td>\n",
       "      <td>74.755572</td>\n",
       "      <td>18.50</td>\n",
       "      <td>kmeans</td>\n",
       "      <td>LSUNCrop</td>\n",
       "      <td>CIFAR10</td>\n",
       "    </tr>\n",
       "    <tr>\n",
       "      <th>22</th>\n",
       "      <td>cosine</td>\n",
       "      <td>0</td>\n",
       "      <td>30</td>\n",
       "      <td>76.838411</td>\n",
       "      <td>18.60</td>\n",
       "      <td>kmeans</td>\n",
       "      <td>LSUNCrop</td>\n",
       "      <td>CIFAR10</td>\n",
       "    </tr>\n",
       "    <tr>\n",
       "      <th>23</th>\n",
       "      <td>cosine</td>\n",
       "      <td>0</td>\n",
       "      <td>50</td>\n",
       "      <td>78.068544</td>\n",
       "      <td>17.81</td>\n",
       "      <td>kmeans</td>\n",
       "      <td>LSUNCrop</td>\n",
       "      <td>CIFAR10</td>\n",
       "    </tr>\n",
       "    <tr>\n",
       "      <th>24</th>\n",
       "      <td>cosine</td>\n",
       "      <td>10</td>\n",
       "      <td>0</td>\n",
       "      <td>52.615407</td>\n",
       "      <td>11.52</td>\n",
       "      <td>kmeans</td>\n",
       "      <td>LSUNCrop</td>\n",
       "      <td>CIFAR10</td>\n",
       "    </tr>\n",
       "    <tr>\n",
       "      <th>25</th>\n",
       "      <td>cosine</td>\n",
       "      <td>10</td>\n",
       "      <td>30</td>\n",
       "      <td>50.766476</td>\n",
       "      <td>4.13</td>\n",
       "      <td>kmeans</td>\n",
       "      <td>LSUNCrop</td>\n",
       "      <td>CIFAR10</td>\n",
       "    </tr>\n",
       "    <tr>\n",
       "      <th>26</th>\n",
       "      <td>cosine</td>\n",
       "      <td>10</td>\n",
       "      <td>50</td>\n",
       "      <td>49.847201</td>\n",
       "      <td>3.23</td>\n",
       "      <td>kmeans</td>\n",
       "      <td>LSUNCrop</td>\n",
       "      <td>CIFAR10</td>\n",
       "    </tr>\n",
       "    <tr>\n",
       "      <th>27</th>\n",
       "      <td>mahalanobis</td>\n",
       "      <td>10</td>\n",
       "      <td>0</td>\n",
       "      <td>35.883319</td>\n",
       "      <td>0.86</td>\n",
       "      <td>kmeans</td>\n",
       "      <td>LSUNResize</td>\n",
       "      <td>CIFAR10</td>\n",
       "    </tr>\n",
       "    <tr>\n",
       "      <th>28</th>\n",
       "      <td>mahalanobis</td>\n",
       "      <td>10</td>\n",
       "      <td>30</td>\n",
       "      <td>40.869627</td>\n",
       "      <td>2.47</td>\n",
       "      <td>kmeans</td>\n",
       "      <td>LSUNResize</td>\n",
       "      <td>CIFAR10</td>\n",
       "    </tr>\n",
       "    <tr>\n",
       "      <th>29</th>\n",
       "      <td>mahalanobis</td>\n",
       "      <td>10</td>\n",
       "      <td>50</td>\n",
       "      <td>41.817188</td>\n",
       "      <td>2.36</td>\n",
       "      <td>kmeans</td>\n",
       "      <td>LSUNResize</td>\n",
       "      <td>CIFAR10</td>\n",
       "    </tr>\n",
       "    <tr>\n",
       "      <th>30</th>\n",
       "      <td>cosine</td>\n",
       "      <td>0</td>\n",
       "      <td>0</td>\n",
       "      <td>39.689334</td>\n",
       "      <td>0.89</td>\n",
       "      <td>kmeans</td>\n",
       "      <td>LSUNResize</td>\n",
       "      <td>CIFAR10</td>\n",
       "    </tr>\n",
       "    <tr>\n",
       "      <th>31</th>\n",
       "      <td>cosine</td>\n",
       "      <td>0</td>\n",
       "      <td>30</td>\n",
       "      <td>44.524537</td>\n",
       "      <td>3.93</td>\n",
       "      <td>kmeans</td>\n",
       "      <td>LSUNResize</td>\n",
       "      <td>CIFAR10</td>\n",
       "    </tr>\n",
       "    <tr>\n",
       "      <th>32</th>\n",
       "      <td>cosine</td>\n",
       "      <td>0</td>\n",
       "      <td>50</td>\n",
       "      <td>45.143200</td>\n",
       "      <td>4.06</td>\n",
       "      <td>kmeans</td>\n",
       "      <td>LSUNResize</td>\n",
       "      <td>CIFAR10</td>\n",
       "    </tr>\n",
       "    <tr>\n",
       "      <th>33</th>\n",
       "      <td>cosine</td>\n",
       "      <td>10</td>\n",
       "      <td>0</td>\n",
       "      <td>49.852534</td>\n",
       "      <td>5.26</td>\n",
       "      <td>kmeans</td>\n",
       "      <td>LSUNResize</td>\n",
       "      <td>CIFAR10</td>\n",
       "    </tr>\n",
       "    <tr>\n",
       "      <th>34</th>\n",
       "      <td>cosine</td>\n",
       "      <td>10</td>\n",
       "      <td>30</td>\n",
       "      <td>49.303272</td>\n",
       "      <td>4.87</td>\n",
       "      <td>kmeans</td>\n",
       "      <td>LSUNResize</td>\n",
       "      <td>CIFAR10</td>\n",
       "    </tr>\n",
       "    <tr>\n",
       "      <th>35</th>\n",
       "      <td>cosine</td>\n",
       "      <td>10</td>\n",
       "      <td>50</td>\n",
       "      <td>50.778386</td>\n",
       "      <td>5.10</td>\n",
       "      <td>kmeans</td>\n",
       "      <td>LSUNResize</td>\n",
       "      <td>CIFAR10</td>\n",
       "    </tr>\n",
       "  </tbody>\n",
       "</table>\n",
       "</div>"
      ],
      "text/plain": [
       "         metric  pca components  clusters      auroc  tnr@tpr95  \\\n",
       "0   mahalanobis              10         0  57.010614       5.27   \n",
       "1   mahalanobis              10        30  68.638942      11.01   \n",
       "2   mahalanobis              10        50  70.518760      12.70   \n",
       "3        cosine               0         0  54.324849       5.34   \n",
       "4        cosine               0        30  54.953799       4.74   \n",
       "5        cosine               0        50  55.384749       6.35   \n",
       "6        cosine              10         0  50.264521       3.62   \n",
       "7        cosine              10        30  57.637842       8.92   \n",
       "8        cosine              10        50  57.793358       8.75   \n",
       "9   mahalanobis              10         0  54.763565       6.97   \n",
       "10  mahalanobis              10        30  61.484335       7.21   \n",
       "11  mahalanobis              10        50  61.290700       7.18   \n",
       "12       cosine               0         0  63.499339      11.28   \n",
       "13       cosine               0        30  68.754796      11.88   \n",
       "14       cosine               0        50  65.277568      11.92   \n",
       "15       cosine              10         0  48.085131       5.44   \n",
       "16       cosine              10        30  50.335899       4.38   \n",
       "17       cosine              10        50  51.130604       6.36   \n",
       "18  mahalanobis              10         0  65.469231       5.64   \n",
       "19  mahalanobis              10        30  67.939858       5.01   \n",
       "20  mahalanobis              10        50  68.232909       6.85   \n",
       "21       cosine               0         0  74.755572      18.50   \n",
       "22       cosine               0        30  76.838411      18.60   \n",
       "23       cosine               0        50  78.068544      17.81   \n",
       "24       cosine              10         0  52.615407      11.52   \n",
       "25       cosine              10        30  50.766476       4.13   \n",
       "26       cosine              10        50  49.847201       3.23   \n",
       "27  mahalanobis              10         0  35.883319       0.86   \n",
       "28  mahalanobis              10        30  40.869627       2.47   \n",
       "29  mahalanobis              10        50  41.817188       2.36   \n",
       "30       cosine               0         0  39.689334       0.89   \n",
       "31       cosine               0        30  44.524537       3.93   \n",
       "32       cosine               0        50  45.143200       4.06   \n",
       "33       cosine              10         0  49.852534       5.26   \n",
       "34       cosine              10        30  49.303272       4.87   \n",
       "35       cosine              10        50  50.778386       5.10   \n",
       "\n",
       "   cluster_method         ood      idd  \n",
       "0          kmeans    CIFAR100  CIFAR10  \n",
       "1          kmeans    CIFAR100  CIFAR10  \n",
       "2          kmeans    CIFAR100  CIFAR10  \n",
       "3          kmeans    CIFAR100  CIFAR10  \n",
       "4          kmeans    CIFAR100  CIFAR10  \n",
       "5          kmeans    CIFAR100  CIFAR10  \n",
       "6          kmeans    CIFAR100  CIFAR10  \n",
       "7          kmeans    CIFAR100  CIFAR10  \n",
       "8          kmeans    CIFAR100  CIFAR10  \n",
       "9          kmeans        SVHN  CIFAR10  \n",
       "10         kmeans        SVHN  CIFAR10  \n",
       "11         kmeans        SVHN  CIFAR10  \n",
       "12         kmeans        SVHN  CIFAR10  \n",
       "13         kmeans        SVHN  CIFAR10  \n",
       "14         kmeans        SVHN  CIFAR10  \n",
       "15         kmeans        SVHN  CIFAR10  \n",
       "16         kmeans        SVHN  CIFAR10  \n",
       "17         kmeans        SVHN  CIFAR10  \n",
       "18         kmeans    LSUNCrop  CIFAR10  \n",
       "19         kmeans    LSUNCrop  CIFAR10  \n",
       "20         kmeans    LSUNCrop  CIFAR10  \n",
       "21         kmeans    LSUNCrop  CIFAR10  \n",
       "22         kmeans    LSUNCrop  CIFAR10  \n",
       "23         kmeans    LSUNCrop  CIFAR10  \n",
       "24         kmeans    LSUNCrop  CIFAR10  \n",
       "25         kmeans    LSUNCrop  CIFAR10  \n",
       "26         kmeans    LSUNCrop  CIFAR10  \n",
       "27         kmeans  LSUNResize  CIFAR10  \n",
       "28         kmeans  LSUNResize  CIFAR10  \n",
       "29         kmeans  LSUNResize  CIFAR10  \n",
       "30         kmeans  LSUNResize  CIFAR10  \n",
       "31         kmeans  LSUNResize  CIFAR10  \n",
       "32         kmeans  LSUNResize  CIFAR10  \n",
       "33         kmeans  LSUNResize  CIFAR10  \n",
       "34         kmeans  LSUNResize  CIFAR10  \n",
       "35         kmeans  LSUNResize  CIFAR10  "
      ]
     },
     "execution_count": 20,
     "metadata": {},
     "output_type": "execute_result"
    }
   ],
   "source": [
    "pd.DataFrame(pd.read_pickle(\"/data/temiloluwa.adeoti/fourth_experiments/CIFAR10_clus_768_neg_256/exp_1/checkpoint_259_results/ood_results/metrics_result/contrastive_enc_key_ckpt_259_avg_pool/results.pickle\"))"
   ]
  },
  {
   "cell_type": "code",
   "execution_count": 21,
   "metadata": {},
   "outputs": [],
   "source": [
    "model_paths = [\n",
    "    \"/data/temiloluwa.adeoti/third_experiments/CIFAR100_clus_3072_neg_2560/exp_3/checkpoint_199_results/ood_results/metrics_result\",\n",
    "    \"/data/temiloluwa.adeoti/third_experiments/CIFAR100_clus_5632_neg_2560/exp_300/checkpoint_199_results/ood_results/metrics_result/\",\n",
    "    \"/data/temiloluwa.adeoti/third_experiments/CIFAR100_clus_768_neg_256/exp_0/checkpoint_199_results/ood_results/metrics_result/\"\n",
    "]"
   ]
  },
  {
   "cell_type": "code",
   "execution_count": 22,
   "metadata": {},
   "outputs": [
    {
     "ename": "FileNotFoundError",
     "evalue": "[Errno 2] No such file or directory: '/data/temiloluwa.adeoti/third_experiments/CIFAR100_clus_3072_neg_2560/exp_3/checkpoint_199_results/ood_results/metrics_result'",
     "output_type": "error",
     "traceback": [
      "\u001b[0;31m---------------------------------------------------------------------------\u001b[0m",
      "\u001b[0;31mFileNotFoundError\u001b[0m                         Traceback (most recent call last)",
      "\u001b[0;32m<ipython-input-22-626f02c83930>\u001b[0m in \u001b[0;36m<module>\u001b[0;34m\u001b[0m\n\u001b[1;32m      1\u001b[0m \u001b[0mpth1\u001b[0m \u001b[0;34m=\u001b[0m \u001b[0mmodel_paths\u001b[0m\u001b[0;34m[\u001b[0m\u001b[0;36m0\u001b[0m\u001b[0;34m]\u001b[0m\u001b[0;34m\u001b[0m\u001b[0;34m\u001b[0m\u001b[0m\n\u001b[0;32m----> 2\u001b[0;31m \u001b[0mpth1\u001b[0m \u001b[0;34m=\u001b[0m \u001b[0mlist\u001b[0m\u001b[0;34m(\u001b[0m\u001b[0mPath\u001b[0m\u001b[0;34m(\u001b[0m\u001b[0mpth1\u001b[0m\u001b[0;34m)\u001b[0m\u001b[0;34m.\u001b[0m\u001b[0miterdir\u001b[0m\u001b[0;34m(\u001b[0m\u001b[0;34m)\u001b[0m\u001b[0;34m)\u001b[0m\u001b[0;34m\u001b[0m\u001b[0;34m\u001b[0m\u001b[0m\n\u001b[0m\u001b[1;32m      3\u001b[0m \u001b[0mpth1\u001b[0m\u001b[0;34m\u001b[0m\u001b[0;34m\u001b[0m\u001b[0m\n",
      "\u001b[0;32m/usr/lib/python3.8/pathlib.py\u001b[0m in \u001b[0;36miterdir\u001b[0;34m(self)\u001b[0m\n\u001b[1;32m   1120\u001b[0m         \u001b[0;32mif\u001b[0m \u001b[0mself\u001b[0m\u001b[0;34m.\u001b[0m\u001b[0m_closed\u001b[0m\u001b[0;34m:\u001b[0m\u001b[0;34m\u001b[0m\u001b[0;34m\u001b[0m\u001b[0m\n\u001b[1;32m   1121\u001b[0m             \u001b[0mself\u001b[0m\u001b[0;34m.\u001b[0m\u001b[0m_raise_closed\u001b[0m\u001b[0;34m(\u001b[0m\u001b[0;34m)\u001b[0m\u001b[0;34m\u001b[0m\u001b[0;34m\u001b[0m\u001b[0m\n\u001b[0;32m-> 1122\u001b[0;31m         \u001b[0;32mfor\u001b[0m \u001b[0mname\u001b[0m \u001b[0;32min\u001b[0m \u001b[0mself\u001b[0m\u001b[0;34m.\u001b[0m\u001b[0m_accessor\u001b[0m\u001b[0;34m.\u001b[0m\u001b[0mlistdir\u001b[0m\u001b[0;34m(\u001b[0m\u001b[0mself\u001b[0m\u001b[0;34m)\u001b[0m\u001b[0;34m:\u001b[0m\u001b[0;34m\u001b[0m\u001b[0;34m\u001b[0m\u001b[0m\n\u001b[0m\u001b[1;32m   1123\u001b[0m             \u001b[0;32mif\u001b[0m \u001b[0mname\u001b[0m \u001b[0;32min\u001b[0m \u001b[0;34m{\u001b[0m\u001b[0;34m'.'\u001b[0m\u001b[0;34m,\u001b[0m \u001b[0;34m'..'\u001b[0m\u001b[0;34m}\u001b[0m\u001b[0;34m:\u001b[0m\u001b[0;34m\u001b[0m\u001b[0;34m\u001b[0m\u001b[0m\n\u001b[1;32m   1124\u001b[0m                 \u001b[0;31m# Yielding a path object for these makes little sense\u001b[0m\u001b[0;34m\u001b[0m\u001b[0;34m\u001b[0m\u001b[0;34m\u001b[0m\u001b[0m\n",
      "\u001b[0;31mFileNotFoundError\u001b[0m: [Errno 2] No such file or directory: '/data/temiloluwa.adeoti/third_experiments/CIFAR100_clus_3072_neg_2560/exp_3/checkpoint_199_results/ood_results/metrics_result'"
     ]
    }
   ],
   "source": [
    "pth1 = model_paths[0]\n",
    "pth1 = list(Path(pth1).iterdir())\n",
    "pth1\n"
   ]
  },
  {
   "cell_type": "code",
   "execution_count": 23,
   "metadata": {},
   "outputs": [
    {
     "ename": "FileNotFoundError",
     "evalue": "[Errno 2] No such file or directory: '/results.pickle'",
     "output_type": "error",
     "traceback": [
      "\u001b[0;31m---------------------------------------------------------------------------\u001b[0m",
      "\u001b[0;31mFileNotFoundError\u001b[0m                         Traceback (most recent call last)",
      "\u001b[0;32m<ipython-input-23-7f0abb1dec53>\u001b[0m in \u001b[0;36m<module>\u001b[0;34m\u001b[0m\n\u001b[1;32m      1\u001b[0m \u001b[0mdf1\u001b[0m \u001b[0;34m=\u001b[0m \u001b[0mos\u001b[0m\u001b[0;34m.\u001b[0m\u001b[0mpath\u001b[0m\u001b[0;34m.\u001b[0m\u001b[0mjoin\u001b[0m\u001b[0;34m(\u001b[0m\u001b[0mpth1\u001b[0m\u001b[0;34m[\u001b[0m\u001b[0;36m0\u001b[0m\u001b[0;34m]\u001b[0m\u001b[0;34m,\u001b[0m \u001b[0;34m\"results.pickle\"\u001b[0m\u001b[0;34m)\u001b[0m\u001b[0;34m\u001b[0m\u001b[0;34m\u001b[0m\u001b[0m\n\u001b[0;32m----> 2\u001b[0;31m \u001b[0mdf1\u001b[0m \u001b[0;34m=\u001b[0m \u001b[0mpd\u001b[0m\u001b[0;34m.\u001b[0m\u001b[0mDataFrame\u001b[0m\u001b[0;34m(\u001b[0m\u001b[0mpickle\u001b[0m\u001b[0;34m.\u001b[0m\u001b[0mload\u001b[0m\u001b[0;34m(\u001b[0m\u001b[0mopen\u001b[0m\u001b[0;34m(\u001b[0m\u001b[0mdf1\u001b[0m\u001b[0;34m,\u001b[0m \u001b[0;34m\"rb\"\u001b[0m\u001b[0;34m)\u001b[0m\u001b[0;34m)\u001b[0m\u001b[0;34m)\u001b[0m\u001b[0;34m\u001b[0m\u001b[0;34m\u001b[0m\u001b[0m\n\u001b[0m\u001b[1;32m      3\u001b[0m \u001b[0mdf1\u001b[0m\u001b[0;34m.\u001b[0m\u001b[0mhead\u001b[0m\u001b[0;34m(\u001b[0m\u001b[0;34m)\u001b[0m\u001b[0;34m\u001b[0m\u001b[0;34m\u001b[0m\u001b[0m\n",
      "\u001b[0;31mFileNotFoundError\u001b[0m: [Errno 2] No such file or directory: '/results.pickle'"
     ]
    }
   ],
   "source": [
    "df1 = os.path.join(pth1[0], \"results.pickle\")\n",
    "df1 = pd.DataFrame(pickle.load(open(df1, \"rb\")))\n",
    "df1.head()"
   ]
  },
  {
   "cell_type": "code",
   "execution_count": 24,
   "metadata": {
    "scrolled": false
   },
   "outputs": [
    {
     "data": {
      "text/plain": [
       "[PosixPath('/data/temiloluwa.adeoti/third_experiments/CIFAR100_clus_768_neg_256/exp_0/checkpoint_199_results/ood_results/metrics_result/contrastive_enc_key_ckpt_119_avg_pool'),\n",
       " PosixPath('/data/temiloluwa.adeoti/third_experiments/CIFAR100_clus_768_neg_256/exp_0/checkpoint_199_results/ood_results/metrics_result/contrastive_enc_key_ckpt_179_avg_pool'),\n",
       " PosixPath('/data/temiloluwa.adeoti/third_experiments/CIFAR100_clus_768_neg_256/exp_0/checkpoint_199_results/ood_results/metrics_result/contrastive_enc_key_ckpt_19_avg_pool'),\n",
       " PosixPath('/data/temiloluwa.adeoti/third_experiments/CIFAR100_clus_768_neg_256/exp_0/checkpoint_199_results/ood_results/metrics_result/contrastive_enc_key_ckpt_199_avg_pool'),\n",
       " PosixPath('/data/temiloluwa.adeoti/third_experiments/CIFAR100_clus_768_neg_256/exp_0/checkpoint_199_results/ood_results/metrics_result/contrastive_enc_key_ckpt_139_avg_pool'),\n",
       " PosixPath('/data/temiloluwa.adeoti/third_experiments/CIFAR100_clus_768_neg_256/exp_0/checkpoint_199_results/ood_results/metrics_result/contrastive_enc_key_ckpt_39_avg_pool'),\n",
       " PosixPath('/data/temiloluwa.adeoti/third_experiments/CIFAR100_clus_768_neg_256/exp_0/checkpoint_199_results/ood_results/metrics_result/contrastive_enc_key_ckpt_79_avg_pool'),\n",
       " PosixPath('/data/temiloluwa.adeoti/third_experiments/CIFAR100_clus_768_neg_256/exp_0/checkpoint_199_results/ood_results/metrics_result/contrastive_enc_key_ckpt_59_avg_pool'),\n",
       " PosixPath('/data/temiloluwa.adeoti/third_experiments/CIFAR100_clus_768_neg_256/exp_0/checkpoint_199_results/ood_results/metrics_result/contrastive_enc_key_ckpt_99_avg_pool'),\n",
       " PosixPath('/data/temiloluwa.adeoti/third_experiments/CIFAR100_clus_768_neg_256/exp_0/checkpoint_199_results/ood_results/metrics_result/contrastive_enc_key_ckpt_159_avg_pool')]"
      ]
     },
     "execution_count": 24,
     "metadata": {},
     "output_type": "execute_result"
    }
   ],
   "source": [
    "pth2 = model_paths[2]\n",
    "pth2 = list(Path(pth2).iterdir())\n",
    "pth2"
   ]
  },
  {
   "cell_type": "code",
   "execution_count": 25,
   "metadata": {},
   "outputs": [
    {
     "ename": "FileNotFoundError",
     "evalue": "[Errno 2] No such file or directory: '/data/temiloluwa.adeoti/third_experiments/CIFAR100_clus_768_neg_256/exp_0/checkpoint_199_results/ood_results/metrics_result/contrastive_enc_key_ckpt_119_avg_pool/results.pickle'",
     "output_type": "error",
     "traceback": [
      "\u001b[0;31m---------------------------------------------------------------------------\u001b[0m",
      "\u001b[0;31mFileNotFoundError\u001b[0m                         Traceback (most recent call last)",
      "\u001b[0;32m<ipython-input-25-706918ef4b9a>\u001b[0m in \u001b[0;36m<module>\u001b[0;34m\u001b[0m\n\u001b[1;32m      1\u001b[0m \u001b[0mdf2\u001b[0m \u001b[0;34m=\u001b[0m \u001b[0mos\u001b[0m\u001b[0;34m.\u001b[0m\u001b[0mpath\u001b[0m\u001b[0;34m.\u001b[0m\u001b[0mjoin\u001b[0m\u001b[0;34m(\u001b[0m\u001b[0mpth2\u001b[0m\u001b[0;34m[\u001b[0m\u001b[0;36m0\u001b[0m\u001b[0;34m]\u001b[0m\u001b[0;34m,\u001b[0m \u001b[0;34m\"results.pickle\"\u001b[0m\u001b[0;34m)\u001b[0m\u001b[0;34m\u001b[0m\u001b[0;34m\u001b[0m\u001b[0m\n\u001b[0;32m----> 2\u001b[0;31m \u001b[0mdf2\u001b[0m \u001b[0;34m=\u001b[0m \u001b[0mpd\u001b[0m\u001b[0;34m.\u001b[0m\u001b[0mDataFrame\u001b[0m\u001b[0;34m(\u001b[0m\u001b[0mpickle\u001b[0m\u001b[0;34m.\u001b[0m\u001b[0mload\u001b[0m\u001b[0;34m(\u001b[0m\u001b[0mopen\u001b[0m\u001b[0;34m(\u001b[0m\u001b[0mdf2\u001b[0m\u001b[0;34m,\u001b[0m \u001b[0;34m\"rb\"\u001b[0m\u001b[0;34m)\u001b[0m\u001b[0;34m)\u001b[0m\u001b[0;34m)\u001b[0m\u001b[0;34m\u001b[0m\u001b[0;34m\u001b[0m\u001b[0m\n\u001b[0m\u001b[1;32m      3\u001b[0m \u001b[0mdf2\u001b[0m\u001b[0;34m.\u001b[0m\u001b[0mhead\u001b[0m\u001b[0;34m(\u001b[0m\u001b[0;34m)\u001b[0m\u001b[0;34m\u001b[0m\u001b[0;34m\u001b[0m\u001b[0m\n",
      "\u001b[0;31mFileNotFoundError\u001b[0m: [Errno 2] No such file or directory: '/data/temiloluwa.adeoti/third_experiments/CIFAR100_clus_768_neg_256/exp_0/checkpoint_199_results/ood_results/metrics_result/contrastive_enc_key_ckpt_119_avg_pool/results.pickle'"
     ]
    }
   ],
   "source": [
    "df2 = os.path.join(pth2[0], \"results.pickle\")\n",
    "df2 = pd.DataFrame(pickle.load(open(df2, \"rb\")))\n",
    "df2.head()"
   ]
  },
  {
   "cell_type": "code",
   "execution_count": 26,
   "metadata": {},
   "outputs": [
    {
     "ename": "AttributeError",
     "evalue": "'str' object has no attribute 'columns'",
     "output_type": "error",
     "traceback": [
      "\u001b[0;31m---------------------------------------------------------------------------\u001b[0m",
      "\u001b[0;31mAttributeError\u001b[0m                            Traceback (most recent call last)",
      "\u001b[0;32m<ipython-input-26-25d16372e3c6>\u001b[0m in \u001b[0;36m<module>\u001b[0;34m\u001b[0m\n\u001b[0;32m----> 1\u001b[0;31m \u001b[0m_cols\u001b[0m \u001b[0;34m=\u001b[0m \u001b[0mlist\u001b[0m\u001b[0;34m(\u001b[0m\u001b[0mset\u001b[0m\u001b[0;34m(\u001b[0m\u001b[0mdf2\u001b[0m\u001b[0;34m.\u001b[0m\u001b[0mcolumns\u001b[0m\u001b[0;34m)\u001b[0m \u001b[0;34m-\u001b[0m \u001b[0mset\u001b[0m\u001b[0;34m(\u001b[0m\u001b[0;34m[\u001b[0m\u001b[0;34m\"auroc\"\u001b[0m\u001b[0;34m,\u001b[0m \u001b[0;34m\"tnr@tpr95\"\u001b[0m\u001b[0;34m]\u001b[0m\u001b[0;34m)\u001b[0m\u001b[0;34m)\u001b[0m\u001b[0;34m\u001b[0m\u001b[0;34m\u001b[0m\u001b[0m\n\u001b[0m\u001b[1;32m      2\u001b[0m \u001b[0mmerged\u001b[0m \u001b[0;34m=\u001b[0m \u001b[0mdf2\u001b[0m\u001b[0;34m.\u001b[0m\u001b[0mmerge\u001b[0m\u001b[0;34m(\u001b[0m\u001b[0mdf1\u001b[0m\u001b[0;34m,\u001b[0m \u001b[0mon\u001b[0m\u001b[0;34m=\u001b[0m\u001b[0m_cols\u001b[0m\u001b[0;34m)\u001b[0m\u001b[0;34m\u001b[0m\u001b[0;34m\u001b[0m\u001b[0m\n",
      "\u001b[0;31mAttributeError\u001b[0m: 'str' object has no attribute 'columns'"
     ]
    }
   ],
   "source": [
    "_cols = list(set(df2.columns) - set([\"auroc\", \"tnr@tpr95\"]))\n",
    "merged = df2.merge(df1, on=_cols)"
   ]
  },
  {
   "cell_type": "code",
   "execution_count": 27,
   "metadata": {},
   "outputs": [
    {
     "ename": "NameError",
     "evalue": "name 'merged' is not defined",
     "output_type": "error",
     "traceback": [
      "\u001b[0;31m---------------------------------------------------------------------------\u001b[0m",
      "\u001b[0;31mNameError\u001b[0m                                 Traceback (most recent call last)",
      "\u001b[0;32m<ipython-input-27-49c5592a1c8d>\u001b[0m in \u001b[0;36m<module>\u001b[0;34m\u001b[0m\n\u001b[0;32m----> 1\u001b[0;31m \u001b[0mmerged\u001b[0m\u001b[0;34m.\u001b[0m\u001b[0mhead\u001b[0m\u001b[0;34m(\u001b[0m\u001b[0;34m)\u001b[0m\u001b[0;34m\u001b[0m\u001b[0;34m\u001b[0m\u001b[0m\n\u001b[0m",
      "\u001b[0;31mNameError\u001b[0m: name 'merged' is not defined"
     ]
    }
   ],
   "source": [
    "merged.head()"
   ]
  },
  {
   "cell_type": "code",
   "execution_count": 28,
   "metadata": {},
   "outputs": [
    {
     "ename": "NameError",
     "evalue": "name 'merged' is not defined",
     "output_type": "error",
     "traceback": [
      "\u001b[0;31m---------------------------------------------------------------------------\u001b[0m",
      "\u001b[0;31mNameError\u001b[0m                                 Traceback (most recent call last)",
      "\u001b[0;32m<ipython-input-28-2330b650ef70>\u001b[0m in \u001b[0;36m<module>\u001b[0;34m\u001b[0m\n\u001b[0;32m----> 1\u001b[0;31m \u001b[0mmerged\u001b[0m\u001b[0;34m[\u001b[0m\u001b[0mmerged\u001b[0m\u001b[0;34m.\u001b[0m\u001b[0mauroc_x\u001b[0m \u001b[0;34m>\u001b[0m \u001b[0mmerged\u001b[0m\u001b[0;34m.\u001b[0m\u001b[0mauroc_y\u001b[0m\u001b[0;34m]\u001b[0m\u001b[0;34m\u001b[0m\u001b[0;34m\u001b[0m\u001b[0m\n\u001b[0m",
      "\u001b[0;31mNameError\u001b[0m: name 'merged' is not defined"
     ]
    }
   ],
   "source": [
    "merged[merged.auroc_x > merged.auroc_y]"
   ]
  },
  {
   "cell_type": "code",
   "execution_count": null,
   "metadata": {},
   "outputs": [],
   "source": []
  },
  {
   "cell_type": "code",
   "execution_count": null,
   "metadata": {},
   "outputs": [],
   "source": []
  },
  {
   "cell_type": "code",
   "execution_count": null,
   "metadata": {},
   "outputs": [],
   "source": []
  },
  {
   "cell_type": "code",
   "execution_count": null,
   "metadata": {},
   "outputs": [],
   "source": []
  },
  {
   "cell_type": "code",
   "execution_count": null,
   "metadata": {},
   "outputs": [],
   "source": []
  },
  {
   "cell_type": "code",
   "execution_count": null,
   "metadata": {},
   "outputs": [],
   "source": []
  },
  {
   "cell_type": "code",
   "execution_count": null,
   "metadata": {},
   "outputs": [],
   "source": []
  },
  {
   "cell_type": "code",
   "execution_count": null,
   "metadata": {
    "scrolled": true
   },
   "outputs": [],
   "source": [
    "#model_path = \"/data/temiloluwa.adeoti/third_experiments/CIFAR10_clus_768_neg_256/exp_9/\"\n",
    "#model_path += \"checkpoint_199_results/finetune/key_ckpt_199_mn_2_lp_10\"\n",
    "model_path = \"/data/temiloluwa.adeoti/third_experiments/CIFAR10_clus_2816_neg_2560/exp_0/checkpoint_199_results/ood_results/metrics_result/contrastive_enc_key_ckpt_199_avg_pool\"\n",
    "#model_path = \"/data/temiloluwa.adeoti/third_experiments/CIFAR10_clus_2816_neg_2560/exp_0/checkpoint_199_results/ood_results/metrics_result/finetuned_enc_key_ckpt_199_fc/mn_2\"\n",
    "model_path = list(Path(model_path).iterdir())\n",
    "{i:k.stem for i,k in enumerate(model_path)}"
   ]
  },
  {
   "cell_type": "code",
   "execution_count": null,
   "metadata": {
    "scrolled": false
   },
   "outputs": [],
   "source": [
    "#df = pd.DataFrame(torch.load(model_path[0])['train_results'])\n",
    "df = pd.DataFrame(pickle.load(open(model_path[9], \"rb\")))\n",
    "df.head()"
   ]
  },
  {
   "cell_type": "code",
   "execution_count": null,
   "metadata": {},
   "outputs": [],
   "source": [
    "df[df.ood==\"CIFAR100\"].sort_values(by=['auroc'], ascending=False)\n",
    "#df.sort_values(by=[\"avgpool_auroc\"], ascending=False)"
   ]
  },
  {
   "cell_type": "code",
   "execution_count": null,
   "metadata": {
    "scrolled": true
   },
   "outputs": [],
   "source": [
    "df"
   ]
  },
  {
   "cell_type": "code",
   "execution_count": null,
   "metadata": {},
   "outputs": [],
   "source": [
    "plt.figure(figsize=(15, 10))\n",
    "plt.plot(df.avgpool_auroc)\n",
    "plt.plot(df.fc_auroc)"
   ]
  },
  {
   "cell_type": "code",
   "execution_count": null,
   "metadata": {},
   "outputs": [],
   "source": [
    "df.sort_values(by=['fc_auroc'], ascending=False)"
   ]
  },
  {
   "cell_type": "code",
   "execution_count": null,
   "metadata": {},
   "outputs": [],
   "source": [
    "df = pd.DataFrame(pd.read_pickle(model_path[9])).sort_values(by=[\"auroc\"], ascending=False)\n",
    "df[df.ood==\"LSUNResize\"]"
   ]
  },
  {
   "cell_type": "code",
   "execution_count": null,
   "metadata": {},
   "outputs": [],
   "source": []
  },
  {
   "cell_type": "code",
   "execution_count": null,
   "metadata": {},
   "outputs": [],
   "source": []
  },
  {
   "cell_type": "code",
   "execution_count": null,
   "metadata": {},
   "outputs": [],
   "source": []
  },
  {
   "cell_type": "code",
   "execution_count": null,
   "metadata": {},
   "outputs": [],
   "source": []
  },
  {
   "cell_type": "code",
   "execution_count": null,
   "metadata": {},
   "outputs": [],
   "source": []
  },
  {
   "cell_type": "code",
   "execution_count": null,
   "metadata": {},
   "outputs": [],
   "source": []
  },
  {
   "cell_type": "code",
   "execution_count": null,
   "metadata": {},
   "outputs": [],
   "source": []
  },
  {
   "cell_type": "code",
   "execution_count": null,
   "metadata": {},
   "outputs": [],
   "source": []
  },
  {
   "cell_type": "code",
   "execution_count": null,
   "metadata": {},
   "outputs": [],
   "source": []
  },
  {
   "cell_type": "markdown",
   "metadata": {},
   "source": [
    "## Merge All Results"
   ]
  },
  {
   "cell_type": "code",
   "execution_count": null,
   "metadata": {
    "scrolled": false
   },
   "outputs": [],
   "source": [
    "data_path = \"/data/temiloluwa.adeoti/checkpoints\"\n",
    "\n",
    "model_type = \"finetuned\"\n",
    "\n",
    "res_paths = [i for i in Path(data_path).rglob(\"*results.pickle\") if \\\n",
    "             \n",
    "             model_type in str(i)]\n",
    "{i:\"-\".join(str(v).split(\"/\")[4:-1]) for i, v in enumerate(res_paths)}"
   ]
  },
  {
   "cell_type": "code",
   "execution_count": null,
   "metadata": {},
   "outputs": [],
   "source": [
    "all_df = pd.DataFrame(pd.read_pickle(res_paths[0]))\n",
    "cols = list(set(all_df.columns) - set(['auroc', 'tnr@tpr95']))\n",
    "all_df = all_df.rename(columns={\"auroc\":\"res_0_auroc\", \"tnr@tpr95\":\"res_0_tnr@tpr95\"})\n",
    "all_df_auroc = all_df[['idd', 'ood', 'clusters', 'pca components', 'metric', 'res_0_auroc',]]\n",
    "all_df_tnr = all_df[['idd', 'ood', 'clusters', 'pca components', 'metric', 'res_0_tnr@tpr95']]\n",
    "all_df_auroc.head()"
   ]
  },
  {
   "cell_type": "code",
   "execution_count": null,
   "metadata": {},
   "outputs": [],
   "source": [
    "for i in range(1, len(res_paths)):\n",
    "    print(f\"{i} added\")\n",
    "    _df = pd.DataFrame(pd.read_pickle(res_paths[i]))\n",
    "    _df = _df.rename(columns={\"auroc\":f\"res_{i}_auroc\"})\n",
    "    _cols = list(set(_df.columns) - set(['tnr@tpr95']))\n",
    "    _df = _df[_cols]\n",
    "    all_df_auroc = all_df_auroc.merge(_df, how=\"left\", on=cols)"
   ]
  },
  {
   "cell_type": "code",
   "execution_count": null,
   "metadata": {},
   "outputs": [],
   "source": [
    "for i in range(1, len(res_paths)):\n",
    "    print(f\"{i} added\")\n",
    "    _df = pd.DataFrame(pd.read_pickle(res_paths[i]))\n",
    "    _df = _df.rename(columns={\"tnr@tpr95\":f\"res_{i}_tnr@tpr95\"})\n",
    "    _cols = list(set(_df.columns) - set(['auroc']))\n",
    "    _df = _df[_cols]\n",
    "    all_df_tnr = all_df_tnr.merge(_df, how=\"left\", on=cols)"
   ]
  },
  {
   "cell_type": "code",
   "execution_count": null,
   "metadata": {},
   "outputs": [],
   "source": [
    "os.listdir(\"/data/temiloluwa.adeoti/checkpoints/CIFAR10_clus_2816_neg_2560/exp_0/checkpoint_199_results/finetune\")"
   ]
  },
  {
   "cell_type": "code",
   "execution_count": null,
   "metadata": {
    "scrolled": false
   },
   "outputs": [],
   "source": [
    "all_df_auroc[all_df_auroc.ood == \"CIFAR100\"].sort_values(by=['res_4_auroc'], ascending=False)"
   ]
  },
  {
   "cell_type": "code",
   "execution_count": null,
   "metadata": {},
   "outputs": [],
   "source": []
  },
  {
   "cell_type": "markdown",
   "metadata": {},
   "source": [
    "## Best AUROC and TNR"
   ]
  },
  {
   "cell_type": "code",
   "execution_count": null,
   "metadata": {},
   "outputs": [],
   "source": [
    "max_cols_per_row = all_df_auroc.iloc[:, 5:].idxmax(axis=1)\n",
    "max_per_row = all_df_auroc.iloc[:, 5:].max(axis=1)\n",
    "best_aurocs = pd.concat([all_df_auroc.iloc[:, :5], max_cols_per_row, max_per_row], axis=1).\\\n",
    "        rename(columns={0: \"model\", 1: \"max_auroc\"})\n",
    "\n",
    "best_aurocs_near = best_aurocs[best_aurocs.ood==\"CIFAR100\"]\n",
    "best_aurocs_far = best_aurocs[best_aurocs.ood!=\"CIFAR100\"]"
   ]
  },
  {
   "cell_type": "code",
   "execution_count": null,
   "metadata": {
    "scrolled": false
   },
   "outputs": [],
   "source": [
    "best_aurocs_near.sort_values(by=[\"max_auroc\"], ascending=False)"
   ]
  },
  {
   "cell_type": "code",
   "execution_count": null,
   "metadata": {
    "scrolled": true
   },
   "outputs": [],
   "source": [
    "best_aurocs_far.sort_values(by=[\"max_auroc\"], ascending=False)"
   ]
  },
  {
   "cell_type": "code",
   "execution_count": null,
   "metadata": {},
   "outputs": [],
   "source": [
    "idx = best_aurocs.groupby([\"ood\", \"metric\"], sort=False)[\"max_auroc\"].transform(max) == best_aurocs[\"max_auroc\"]\n",
    "best_per_ds = best_aurocs[idx]\n",
    "\n",
    "_tnr = []\n",
    "id_x = list(zip(best_per_ds.index, best_per_ds.model.apply(lambda x:x[:5] + \"_tnr@tpr95\").values))\n",
    "for i in id_x:\n",
    "    _tnr.append({\"tnr@tpr95\":all_df_tnr.loc[i]})\n",
    "\n",
    "_df = pd.concat([best_per_ds.reset_index(drop=True), pd.DataFrame(_tnr)], axis=1)\n",
    "_df\n",
    "#_df.to_excel(\"../cache/best_results.xlsx\")"
   ]
  },
  {
   "cell_type": "markdown",
   "metadata": {},
   "source": [
    "## Models Results Comparision\n",
    "* exp 0 - clus: 2816, avgpool -> fc -> logits\n",
    "* exp 2 - clus: 2816, avgpool -> fc ->logits, MOCO\n",
    "* exp 3 - clus: 2816, 5120, avgpool -> fc -> logits\n",
    "* exp 4 - clus: 2816, 5120, 7680, avgpool-> fc-> logits\n",
    "* exp 5 - clus: 2816, avgpool -> fc -> fc-> logits"
   ]
  },
  {
   "cell_type": "code",
   "execution_count": null,
   "metadata": {},
   "outputs": [],
   "source": [
    "# corresponds to exp 0, 3, 4, 5, respectively\n",
    "act_nos = [0, 3, 4, 5]\n",
    "res_nos = [8, 17, 0, 10]\n",
    "encoder_type = \"key\"\n",
    "for i, n in enumerate(res_nos):\n",
    "    _pth = res_paths[n]\n",
    "    exp_name = f\"exp_{act_nos[i]}\"\n",
    "    assert exp_name in str(_pth), \"wrong name\"\n",
    "    assert encoder_type in str(_pth), \"wrong encoder type\""
   ]
  },
  {
   "cell_type": "code",
   "execution_count": null,
   "metadata": {},
   "outputs": [],
   "source": [
    "models_ = {f\"res_{res_nos[i]}_auroc\": f\"model_{act_nos[i]}_auroc\" for i in range(len(res_nos))}\n",
    "df_comp = all_df_auroc[cols + [k for k, _ in models_.items()]].\\\n",
    "    sort_values(by=[f\"res_{res_nos[0]}_auroc\"], ascending=False).\\\n",
    "        rename(columns=models_)\n",
    "df_comp.head()"
   ]
  },
  {
   "cell_type": "code",
   "execution_count": null,
   "metadata": {},
   "outputs": [],
   "source": [
    "ood = \"CIFAR100\"\n",
    "pca = 10\n",
    "metric = \"mahalanobis\"\n",
    "combos_ = [(\"SVHN\", 0, \"cosine\"), (\"SVHN\", 0, \"euclidean\"), (\"SVHN\", 10, \"mahalanobis\"),\\\n",
    " (\"LSUNCrop\", 0, \"cosine\"), (\"LSUNCrop\", 0, \"euclidean\"), (\"LSUNCrop\", 10, \"mahalanobis\"),\\\n",
    " (\"LSUNResize\", 0, \"cosine\"), (\"LSUNResize\", 0, \"euclidean\"), (\"LSUNResize\", 10, \"mahalanobis\"),\\\n",
    " (\"CIFAR100\", 10, \"cosine\"), (\"CIFAR100\", 10, \"euclidean\"), (\"CIFAR100\", 10, \"mahalanobis\"),\\\n",
    "]\n",
    "\n",
    "def plt_auroc_ood_pca_metric(ood, pca, metric, figtype=None):\n",
    "    _df = df_comp[(df_comp.ood == ood) & (df_comp[\"pca components\"] == pca) & (df_comp.metric== metric)]\n",
    "    f, axes = plt.subplots(1, 1, figsize=(20, 10))\n",
    "    _cols = list(set(_df.columns) - set(cols))\n",
    "    sns.set_style(\"whitegrid\")\n",
    "    sns.set(font_scale=1.4) \n",
    "    sns.barplot(\n",
    "        data=pd.melt(_df, id_vars=cols, value_vars=_cols).rename(columns={\"value\":\"AUROC\"}).sort_values(by=[\"variable\"]),\n",
    "        x=\"clusters\", y=\"AUROC\", hue=\"variable\", ax=axes)\n",
    "    axes.set_title(f\"{ood}: PCA - {pca}, Metric - {metric.capitalize()}\")\n",
    "    axes.legend(loc=\"lower right\")\n",
    "    if figtype:\n",
    "        f.savefig(f'../cache/{figtype}_{ood}_{pca}_{metric}.png')\n",
    "\n",
    "for (ood, pca, metric) in combos_:\n",
    "    plt_auroc_ood_pca_metric(ood, pca, metric, figtype=\"contras\")"
   ]
  },
  {
   "cell_type": "code",
   "execution_count": null,
   "metadata": {},
   "outputs": [],
   "source": [
    "for i in Path(\"../cache\").iterdir():\n",
    "    if \".png\" not in str(i) and \".xlsx\" not in str(i):\n",
    "        os.remove(i)"
   ]
  },
  {
   "cell_type": "markdown",
   "metadata": {},
   "source": [
    "## Contrastive Model then Finetune Comparision\n",
    "\n",
    "* exp 7 - contrastive_model key\n",
    "* exp 4 - finetune - fc layer\n",
    "* exp 1 - finetune - avgpool layer"
   ]
  },
  {
   "cell_type": "code",
   "execution_count": null,
   "metadata": {},
   "outputs": [],
   "source": [
    "models_ = {\"contrastive\":\"res_8_auroc\", \n",
    "           \"ft_avgpool layer\":\"res_1_auroc\", \n",
    "           \"ft_logits\":\"res_4_auroc\"}\n",
    "\n",
    "df_comp = all_df_auroc[cols + [v for _, v in models_.items()]].\\\n",
    "    sort_values(by=[\"res_8_auroc\"], ascending=False).\\\n",
    "        rename(columns={v:k for k,v in models_.items()})\n",
    "df_comp.head()"
   ]
  },
  {
   "cell_type": "code",
   "execution_count": null,
   "metadata": {
    "scrolled": false
   },
   "outputs": [],
   "source": [
    "combos_ = [(\"SVHN\", 5, \"cosine\"), \n",
    " (\"LSUNCrop\", 5, \"cosine\"),\n",
    " (\"LSUNResize\", 0, \"cosine\"),\n",
    " (\"CIFAR100\", 0, \"cosine\")\n",
    "]\n",
    "\n",
    "for (ood, pca, metric) in combos_:\n",
    "    plt_auroc_ood_pca_metric(ood, pca, metric, figtype=\"all\")"
   ]
  },
  {
   "cell_type": "code",
   "execution_count": null,
   "metadata": {},
   "outputs": [],
   "source": [
    "for i in Path(\"../cache\").iterdir():\n",
    "    if \".xlsx\" not in str(i):\n",
    "        os.remove(i)"
   ]
  },
  {
   "cell_type": "code",
   "execution_count": null,
   "metadata": {},
   "outputs": [],
   "source": []
  }
 ],
 "metadata": {
  "interpreter": {
   "hash": "6d1b99b2fe65141a8c64b14c0e0c859b4e699fb6060a5ccbcb39b090d3aa6c65"
  },
  "kernelspec": {
   "display_name": "Python 3",
   "language": "python",
   "name": "python3"
  },
  "language_info": {
   "codemirror_mode": {
    "name": "ipython",
    "version": 3
   },
   "file_extension": ".py",
   "mimetype": "text/x-python",
   "name": "python",
   "nbconvert_exporter": "python",
   "pygments_lexer": "ipython3",
   "version": "3.8.10"
  }
 },
 "nbformat": 4,
 "nbformat_minor": 2
}
